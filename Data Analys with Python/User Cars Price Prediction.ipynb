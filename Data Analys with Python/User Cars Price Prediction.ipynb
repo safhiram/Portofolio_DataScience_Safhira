{
 "cells": [
  {
   "cell_type": "markdown",
   "metadata": {
    "colab_type": "text",
    "id": "FYgrd9XYT4XY"
   },
   "source": [
    "# User Cars Price Prediction "
   ]
  },
  {
   "cell_type": "code",
   "execution_count": null,
   "metadata": {
    "colab": {
     "base_uri": "https://localhost:8080/",
     "height": 71
    },
    "colab_type": "code",
    "id": "Br8zALu0ez70",
    "outputId": "8be13e5a-787f-4cfb-ed01-c793d09dc262"
   },
   "outputs": [
    {
     "name": "stdout",
     "output_type": "stream",
     "text": [
      "Drive already mounted at /content/drive; to attempt to forcibly remount, call drive.mount(\"/content/drive\", force_remount=True).\n",
      "/content/drive/.shortcut-targets-by-id/1KSlWGYjNv_ofsfVuPvX_rwtkZguCojP-/COMFEST-12/Seleksi\n"
     ]
    }
   ],
   "source": [
    "from google.colab import drive\n",
    "drive.mount('/content/drive')\n",
    "%cd 'drive/My Drive/COMFEST-12/Seleksi/'"
   ]
  },
  {
   "cell_type": "code",
   "execution_count": null,
   "metadata": {
    "colab": {
     "base_uri": "https://localhost:8080/",
     "height": 34
    },
    "colab_type": "code",
    "id": "W2rGAa8ofNcF",
    "outputId": "62615c3d-58e8-4010-f464-9b17a758ef79"
   },
   "outputs": [
    {
     "name": "stdout",
     "output_type": "stream",
     "text": [
      "Seleksi.ipynb  used_car_data.csv\n"
     ]
    }
   ],
   "source": [
    "%ls"
   ]
  },
  {
   "cell_type": "code",
   "execution_count": null,
   "metadata": {
    "colab": {
     "base_uri": "https://localhost:8080/",
     "height": 71
    },
    "colab_type": "code",
    "id": "ewlySEiugVob",
    "outputId": "ef611816-00b8-4104-849d-747a2939c9b2"
   },
   "outputs": [
    {
     "name": "stderr",
     "output_type": "stream",
     "text": [
      "/usr/local/lib/python3.6/dist-packages/statsmodels/tools/_testing.py:19: FutureWarning: pandas.util.testing is deprecated. Use the functions in the public API at pandas.testing instead.\n",
      "  import pandas.util.testing as tm\n"
     ]
    }
   ],
   "source": [
    "import numpy as np\n",
    "import pandas as pd\n",
    "from scipy import stats\n",
    "import seaborn as sns\n",
    "import matplotlib.pyplot as plt\n",
    "from sklearn.preprocessing import LabelEncoder"
   ]
  },
  {
   "cell_type": "markdown",
   "metadata": {
    "colab_type": "text",
    "id": "bECnt4UgTTXU"
   },
   "source": [
    "## Load Data"
   ]
  },
  {
   "cell_type": "code",
   "execution_count": null,
   "metadata": {
    "colab": {},
    "colab_type": "code",
    "id": "xlNU7w3zgkfO"
   },
   "outputs": [],
   "source": [
    "df = pd.read_csv( 'used_car_data.csv' )"
   ]
  },
  {
   "cell_type": "markdown",
   "metadata": {
    "colab_type": "text",
    "id": "5w_Kf9NhTaly"
   },
   "source": [
    "## Get Data Info"
   ]
  },
  {
   "cell_type": "markdown",
   "metadata": {
    "colab_type": "text",
    "id": "io1frRUmTemk"
   },
   "source": [
    "### Preview"
   ]
  },
  {
   "cell_type": "code",
   "execution_count": null,
   "metadata": {
    "colab": {
     "base_uri": "https://localhost:8080/"
    },
    "colab_type": "code",
    "id": "HdzwFVt3TZO1",
    "outputId": "67c27c7e-d217-485b-a805-f67b940948e5"
   },
   "outputs": [
    {
     "data": {
      "text/html": [
       "<div>\n",
       "<style scoped>\n",
       "    .dataframe tbody tr th:only-of-type {\n",
       "        vertical-align: middle;\n",
       "    }\n",
       "\n",
       "    .dataframe tbody tr th {\n",
       "        vertical-align: top;\n",
       "    }\n",
       "\n",
       "    .dataframe thead th {\n",
       "        text-align: right;\n",
       "    }\n",
       "</style>\n",
       "<table border=\"1\" class=\"dataframe\">\n",
       "  <thead>\n",
       "    <tr style=\"text-align: right;\">\n",
       "      <th></th>\n",
       "      <th>Name</th>\n",
       "      <th>Location</th>\n",
       "      <th>Year</th>\n",
       "      <th>Kilometers_Driven</th>\n",
       "      <th>Fuel_Type</th>\n",
       "      <th>Transmission</th>\n",
       "      <th>Owner_Type</th>\n",
       "      <th>Mileage</th>\n",
       "      <th>Engine</th>\n",
       "      <th>Power</th>\n",
       "      <th>Seats</th>\n",
       "      <th>Price</th>\n",
       "    </tr>\n",
       "  </thead>\n",
       "  <tbody>\n",
       "    <tr>\n",
       "      <th>0</th>\n",
       "      <td>Maruti Wagon R LXI CNG</td>\n",
       "      <td>Mumbai</td>\n",
       "      <td>2010</td>\n",
       "      <td>72000</td>\n",
       "      <td>CNG</td>\n",
       "      <td>Manual</td>\n",
       "      <td>First</td>\n",
       "      <td>26.6 km/kg</td>\n",
       "      <td>998 CC</td>\n",
       "      <td>58.16 bhp</td>\n",
       "      <td>5.0</td>\n",
       "      <td>1.75</td>\n",
       "    </tr>\n",
       "    <tr>\n",
       "      <th>1</th>\n",
       "      <td>Hyundai Creta 1.6 CRDi SX Option</td>\n",
       "      <td>Pune</td>\n",
       "      <td>2015</td>\n",
       "      <td>41000</td>\n",
       "      <td>Diesel</td>\n",
       "      <td>Manual</td>\n",
       "      <td>First</td>\n",
       "      <td>19.67 kmpl</td>\n",
       "      <td>1582 CC</td>\n",
       "      <td>126.2 bhp</td>\n",
       "      <td>5.0</td>\n",
       "      <td>12.50</td>\n",
       "    </tr>\n",
       "    <tr>\n",
       "      <th>2</th>\n",
       "      <td>Honda Jazz V</td>\n",
       "      <td>Chennai</td>\n",
       "      <td>2011</td>\n",
       "      <td>46000</td>\n",
       "      <td>Petrol</td>\n",
       "      <td>Manual</td>\n",
       "      <td>First</td>\n",
       "      <td>18.2 kmpl</td>\n",
       "      <td>1199 CC</td>\n",
       "      <td>88.7 bhp</td>\n",
       "      <td>5.0</td>\n",
       "      <td>4.50</td>\n",
       "    </tr>\n",
       "    <tr>\n",
       "      <th>3</th>\n",
       "      <td>Maruti Ertiga VDI</td>\n",
       "      <td>Chennai</td>\n",
       "      <td>2012</td>\n",
       "      <td>87000</td>\n",
       "      <td>Diesel</td>\n",
       "      <td>Manual</td>\n",
       "      <td>First</td>\n",
       "      <td>20.77 kmpl</td>\n",
       "      <td>1248 CC</td>\n",
       "      <td>88.76 bhp</td>\n",
       "      <td>7.0</td>\n",
       "      <td>6.00</td>\n",
       "    </tr>\n",
       "    <tr>\n",
       "      <th>4</th>\n",
       "      <td>Audi A4 New 2.0 TDI Multitronic</td>\n",
       "      <td>Coimbatore</td>\n",
       "      <td>2013</td>\n",
       "      <td>40670</td>\n",
       "      <td>Diesel</td>\n",
       "      <td>Automatic</td>\n",
       "      <td>Second</td>\n",
       "      <td>15.2 kmpl</td>\n",
       "      <td>1968 CC</td>\n",
       "      <td>140.8 bhp</td>\n",
       "      <td>5.0</td>\n",
       "      <td>17.74</td>\n",
       "    </tr>\n",
       "  </tbody>\n",
       "</table>\n",
       "</div>"
      ],
      "text/plain": [
       "                               Name    Location  Year  ...      Power Seats  Price\n",
       "0            Maruti Wagon R LXI CNG      Mumbai  2010  ...  58.16 bhp   5.0   1.75\n",
       "1  Hyundai Creta 1.6 CRDi SX Option        Pune  2015  ...  126.2 bhp   5.0  12.50\n",
       "2                      Honda Jazz V     Chennai  2011  ...   88.7 bhp   5.0   4.50\n",
       "3                 Maruti Ertiga VDI     Chennai  2012  ...  88.76 bhp   7.0   6.00\n",
       "4   Audi A4 New 2.0 TDI Multitronic  Coimbatore  2013  ...  140.8 bhp   5.0  17.74\n",
       "\n",
       "[5 rows x 12 columns]"
      ]
     },
     "execution_count": 5,
     "metadata": {
      "tags": []
     },
     "output_type": "execute_result"
    }
   ],
   "source": [
    "df.head()"
   ]
  },
  {
   "cell_type": "markdown",
   "metadata": {
    "colab_type": "text",
    "id": "dYq-y92rTgjE"
   },
   "source": [
    "### Size"
   ]
  },
  {
   "cell_type": "code",
   "execution_count": null,
   "metadata": {
    "colab": {
     "base_uri": "https://localhost:8080/"
    },
    "colab_type": "code",
    "id": "G2I5T8GSIImP",
    "outputId": "ac5d3bd5-a489-40af-e265-a15a2a5addba"
   },
   "outputs": [
    {
     "data": {
      "text/plain": [
       "(6019, 12)"
      ]
     },
     "execution_count": 6,
     "metadata": {
      "tags": []
     },
     "output_type": "execute_result"
    }
   ],
   "source": [
    "df.shape"
   ]
  },
  {
   "cell_type": "markdown",
   "metadata": {
    "colab_type": "text",
    "id": "leh0bQ-TTjgI"
   },
   "source": [
    "### Non-Null Count and Type"
   ]
  },
  {
   "cell_type": "code",
   "execution_count": null,
   "metadata": {
    "colab": {
     "base_uri": "https://localhost:8080/",
     "height": 340
    },
    "colab_type": "code",
    "id": "hWVJWbwxIOWp",
    "outputId": "dad22987-46d0-47d9-eb97-87642cf7e1b6"
   },
   "outputs": [
    {
     "name": "stdout",
     "output_type": "stream",
     "text": [
      "<class 'pandas.core.frame.DataFrame'>\n",
      "RangeIndex: 6019 entries, 0 to 6018\n",
      "Data columns (total 12 columns):\n",
      " #   Column             Non-Null Count  Dtype  \n",
      "---  ------             --------------  -----  \n",
      " 0   Name               6019 non-null   object \n",
      " 1   Location           6019 non-null   object \n",
      " 2   Year               6019 non-null   int64  \n",
      " 3   Kilometers_Driven  6019 non-null   int64  \n",
      " 4   Fuel_Type          6019 non-null   object \n",
      " 5   Transmission       6019 non-null   object \n",
      " 6   Owner_Type         6019 non-null   object \n",
      " 7   Mileage            6017 non-null   object \n",
      " 8   Engine             5983 non-null   object \n",
      " 9   Power              5983 non-null   object \n",
      " 10  Seats              5977 non-null   float64\n",
      " 11  Price              6019 non-null   float64\n",
      "dtypes: float64(2), int64(2), object(8)\n",
      "memory usage: 564.4+ KB\n"
     ]
    }
   ],
   "source": [
    "df.info()"
   ]
  },
  {
   "cell_type": "markdown",
   "metadata": {
    "colab_type": "text",
    "id": "eZrVcl49Tr6W"
   },
   "source": [
    "### Descriptive Analysis"
   ]
  },
  {
   "cell_type": "code",
   "execution_count": null,
   "metadata": {
    "colab": {
     "base_uri": "https://localhost:8080/"
    },
    "colab_type": "code",
    "id": "09zEYQm0ISnT",
    "outputId": "e7657fae-6d42-42cb-981e-0989e8551adc"
   },
   "outputs": [
    {
     "data": {
      "text/html": [
       "<div>\n",
       "<style scoped>\n",
       "    .dataframe tbody tr th:only-of-type {\n",
       "        vertical-align: middle;\n",
       "    }\n",
       "\n",
       "    .dataframe tbody tr th {\n",
       "        vertical-align: top;\n",
       "    }\n",
       "\n",
       "    .dataframe thead th {\n",
       "        text-align: right;\n",
       "    }\n",
       "</style>\n",
       "<table border=\"1\" class=\"dataframe\">\n",
       "  <thead>\n",
       "    <tr style=\"text-align: right;\">\n",
       "      <th></th>\n",
       "      <th>Year</th>\n",
       "      <th>Kilometers_Driven</th>\n",
       "      <th>Seats</th>\n",
       "      <th>Price</th>\n",
       "    </tr>\n",
       "  </thead>\n",
       "  <tbody>\n",
       "    <tr>\n",
       "      <th>count</th>\n",
       "      <td>6019.000000</td>\n",
       "      <td>6.019000e+03</td>\n",
       "      <td>5977.000000</td>\n",
       "      <td>6019.000000</td>\n",
       "    </tr>\n",
       "    <tr>\n",
       "      <th>mean</th>\n",
       "      <td>2013.358199</td>\n",
       "      <td>5.873838e+04</td>\n",
       "      <td>5.278735</td>\n",
       "      <td>9.479468</td>\n",
       "    </tr>\n",
       "    <tr>\n",
       "      <th>std</th>\n",
       "      <td>3.269742</td>\n",
       "      <td>9.126884e+04</td>\n",
       "      <td>0.808840</td>\n",
       "      <td>11.187917</td>\n",
       "    </tr>\n",
       "    <tr>\n",
       "      <th>min</th>\n",
       "      <td>1998.000000</td>\n",
       "      <td>1.710000e+02</td>\n",
       "      <td>0.000000</td>\n",
       "      <td>0.440000</td>\n",
       "    </tr>\n",
       "    <tr>\n",
       "      <th>25%</th>\n",
       "      <td>2011.000000</td>\n",
       "      <td>3.400000e+04</td>\n",
       "      <td>5.000000</td>\n",
       "      <td>3.500000</td>\n",
       "    </tr>\n",
       "    <tr>\n",
       "      <th>50%</th>\n",
       "      <td>2014.000000</td>\n",
       "      <td>5.300000e+04</td>\n",
       "      <td>5.000000</td>\n",
       "      <td>5.640000</td>\n",
       "    </tr>\n",
       "    <tr>\n",
       "      <th>75%</th>\n",
       "      <td>2016.000000</td>\n",
       "      <td>7.300000e+04</td>\n",
       "      <td>5.000000</td>\n",
       "      <td>9.950000</td>\n",
       "    </tr>\n",
       "    <tr>\n",
       "      <th>max</th>\n",
       "      <td>2019.000000</td>\n",
       "      <td>6.500000e+06</td>\n",
       "      <td>10.000000</td>\n",
       "      <td>160.000000</td>\n",
       "    </tr>\n",
       "  </tbody>\n",
       "</table>\n",
       "</div>"
      ],
      "text/plain": [
       "              Year  Kilometers_Driven        Seats        Price\n",
       "count  6019.000000       6.019000e+03  5977.000000  6019.000000\n",
       "mean   2013.358199       5.873838e+04     5.278735     9.479468\n",
       "std       3.269742       9.126884e+04     0.808840    11.187917\n",
       "min    1998.000000       1.710000e+02     0.000000     0.440000\n",
       "25%    2011.000000       3.400000e+04     5.000000     3.500000\n",
       "50%    2014.000000       5.300000e+04     5.000000     5.640000\n",
       "75%    2016.000000       7.300000e+04     5.000000     9.950000\n",
       "max    2019.000000       6.500000e+06    10.000000   160.000000"
      ]
     },
     "execution_count": 8,
     "metadata": {
      "tags": []
     },
     "output_type": "execute_result"
    }
   ],
   "source": [
    "df.describe()"
   ]
  },
  {
   "cell_type": "markdown",
   "metadata": {
    "colab_type": "text",
    "id": "NP1Ml33sTOh2"
   },
   "source": [
    "## Jawaban"
   ]
  },
  {
   "cell_type": "markdown",
   "metadata": {
    "colab_type": "text",
    "id": "vIw18sQsg0M9"
   },
   "source": [
    "### 1. Merek mobil apa saja yang tersedia dan ada berapa banyak mobil untuk tiap merek tersebut?"
   ]
  },
  {
   "cell_type": "code",
   "execution_count": null,
   "metadata": {
    "colab": {
     "base_uri": "https://localhost:8080/"
    },
    "colab_type": "code",
    "id": "vd1n9QKmgvBh",
    "outputId": "9cad8d64-7d8d-45d0-e2c5-16686ee466b4"
   },
   "outputs": [
    {
     "data": {
      "text/html": [
       "<div>\n",
       "<style scoped>\n",
       "    .dataframe tbody tr th:only-of-type {\n",
       "        vertical-align: middle;\n",
       "    }\n",
       "\n",
       "    .dataframe tbody tr th {\n",
       "        vertical-align: top;\n",
       "    }\n",
       "\n",
       "    .dataframe thead th {\n",
       "        text-align: right;\n",
       "    }\n",
       "</style>\n",
       "<table border=\"1\" class=\"dataframe\">\n",
       "  <thead>\n",
       "    <tr style=\"text-align: right;\">\n",
       "      <th></th>\n",
       "      <th>Merek</th>\n",
       "      <th>Jumlah</th>\n",
       "    </tr>\n",
       "  </thead>\n",
       "  <tbody>\n",
       "    <tr>\n",
       "      <th>0</th>\n",
       "      <td>Ambassador</td>\n",
       "      <td>1</td>\n",
       "    </tr>\n",
       "    <tr>\n",
       "      <th>1</th>\n",
       "      <td>Audi</td>\n",
       "      <td>236</td>\n",
       "    </tr>\n",
       "    <tr>\n",
       "      <th>2</th>\n",
       "      <td>BMW</td>\n",
       "      <td>267</td>\n",
       "    </tr>\n",
       "    <tr>\n",
       "      <th>3</th>\n",
       "      <td>Bentley</td>\n",
       "      <td>1</td>\n",
       "    </tr>\n",
       "    <tr>\n",
       "      <th>4</th>\n",
       "      <td>Chevrolet</td>\n",
       "      <td>121</td>\n",
       "    </tr>\n",
       "    <tr>\n",
       "      <th>5</th>\n",
       "      <td>Datsun</td>\n",
       "      <td>13</td>\n",
       "    </tr>\n",
       "    <tr>\n",
       "      <th>6</th>\n",
       "      <td>Fiat</td>\n",
       "      <td>28</td>\n",
       "    </tr>\n",
       "    <tr>\n",
       "      <th>7</th>\n",
       "      <td>Force</td>\n",
       "      <td>3</td>\n",
       "    </tr>\n",
       "    <tr>\n",
       "      <th>8</th>\n",
       "      <td>Ford</td>\n",
       "      <td>300</td>\n",
       "    </tr>\n",
       "    <tr>\n",
       "      <th>9</th>\n",
       "      <td>Honda</td>\n",
       "      <td>608</td>\n",
       "    </tr>\n",
       "    <tr>\n",
       "      <th>10</th>\n",
       "      <td>Hyundai</td>\n",
       "      <td>1107</td>\n",
       "    </tr>\n",
       "    <tr>\n",
       "      <th>11</th>\n",
       "      <td>ISUZU</td>\n",
       "      <td>2</td>\n",
       "    </tr>\n",
       "    <tr>\n",
       "      <th>12</th>\n",
       "      <td>Isuzu</td>\n",
       "      <td>1</td>\n",
       "    </tr>\n",
       "    <tr>\n",
       "      <th>13</th>\n",
       "      <td>Jaguar</td>\n",
       "      <td>40</td>\n",
       "    </tr>\n",
       "    <tr>\n",
       "      <th>14</th>\n",
       "      <td>Jeep</td>\n",
       "      <td>15</td>\n",
       "    </tr>\n",
       "    <tr>\n",
       "      <th>15</th>\n",
       "      <td>Lamborghini</td>\n",
       "      <td>1</td>\n",
       "    </tr>\n",
       "    <tr>\n",
       "      <th>16</th>\n",
       "      <td>Land</td>\n",
       "      <td>60</td>\n",
       "    </tr>\n",
       "    <tr>\n",
       "      <th>17</th>\n",
       "      <td>Mahindra</td>\n",
       "      <td>272</td>\n",
       "    </tr>\n",
       "    <tr>\n",
       "      <th>18</th>\n",
       "      <td>Maruti</td>\n",
       "      <td>1211</td>\n",
       "    </tr>\n",
       "    <tr>\n",
       "      <th>19</th>\n",
       "      <td>Mercedes-Benz</td>\n",
       "      <td>318</td>\n",
       "    </tr>\n",
       "    <tr>\n",
       "      <th>20</th>\n",
       "      <td>Mini</td>\n",
       "      <td>26</td>\n",
       "    </tr>\n",
       "    <tr>\n",
       "      <th>21</th>\n",
       "      <td>Mitsubishi</td>\n",
       "      <td>27</td>\n",
       "    </tr>\n",
       "    <tr>\n",
       "      <th>22</th>\n",
       "      <td>Nissan</td>\n",
       "      <td>91</td>\n",
       "    </tr>\n",
       "    <tr>\n",
       "      <th>23</th>\n",
       "      <td>Porsche</td>\n",
       "      <td>18</td>\n",
       "    </tr>\n",
       "    <tr>\n",
       "      <th>24</th>\n",
       "      <td>Renault</td>\n",
       "      <td>145</td>\n",
       "    </tr>\n",
       "    <tr>\n",
       "      <th>25</th>\n",
       "      <td>Skoda</td>\n",
       "      <td>173</td>\n",
       "    </tr>\n",
       "    <tr>\n",
       "      <th>26</th>\n",
       "      <td>Smart</td>\n",
       "      <td>1</td>\n",
       "    </tr>\n",
       "    <tr>\n",
       "      <th>27</th>\n",
       "      <td>Tata</td>\n",
       "      <td>186</td>\n",
       "    </tr>\n",
       "    <tr>\n",
       "      <th>28</th>\n",
       "      <td>Toyota</td>\n",
       "      <td>411</td>\n",
       "    </tr>\n",
       "    <tr>\n",
       "      <th>29</th>\n",
       "      <td>Volkswagen</td>\n",
       "      <td>315</td>\n",
       "    </tr>\n",
       "    <tr>\n",
       "      <th>30</th>\n",
       "      <td>Volvo</td>\n",
       "      <td>21</td>\n",
       "    </tr>\n",
       "  </tbody>\n",
       "</table>\n",
       "</div>"
      ],
      "text/plain": [
       "            Merek  Jumlah\n",
       "0      Ambassador       1\n",
       "1            Audi     236\n",
       "2             BMW     267\n",
       "3         Bentley       1\n",
       "4       Chevrolet     121\n",
       "5          Datsun      13\n",
       "6            Fiat      28\n",
       "7           Force       3\n",
       "8            Ford     300\n",
       "9           Honda     608\n",
       "10        Hyundai    1107\n",
       "11          ISUZU       2\n",
       "12          Isuzu       1\n",
       "13         Jaguar      40\n",
       "14           Jeep      15\n",
       "15    Lamborghini       1\n",
       "16           Land      60\n",
       "17       Mahindra     272\n",
       "18         Maruti    1211\n",
       "19  Mercedes-Benz     318\n",
       "20           Mini      26\n",
       "21     Mitsubishi      27\n",
       "22         Nissan      91\n",
       "23        Porsche      18\n",
       "24        Renault     145\n",
       "25          Skoda     173\n",
       "26          Smart       1\n",
       "27           Tata     186\n",
       "28         Toyota     411\n",
       "29     Volkswagen     315\n",
       "30          Volvo      21"
      ]
     },
     "execution_count": 9,
     "metadata": {
      "tags": []
     },
     "output_type": "execute_result"
    }
   ],
   "source": [
    "data_1 = df.copy()\n",
    "data_1['Name'] = data_1['Name'].apply( lambda x: x.split( \" \" )[ 0 ] )\n",
    "data_1 = data_1.groupby( ['Name'], as_index=False ).agg( { 'Year' : 'count' } )\n",
    "data_1.columns = [ 'Merek', 'Jumlah' ]\n",
    "data_1"
   ]
  },
  {
   "cell_type": "markdown",
   "metadata": {
    "colab_type": "text",
    "id": "EoNAGPY0jCLJ"
   },
   "source": [
    "### 2. Kota apa yang memiliki mobil bekas paling banyak?"
   ]
  },
  {
   "cell_type": "code",
   "execution_count": null,
   "metadata": {
    "colab": {
     "base_uri": "https://localhost:8080/"
    },
    "colab_type": "code",
    "id": "FUWlqdXeib0w",
    "outputId": "c589b5a6-42c0-4052-eedb-02e6f16d8251"
   },
   "outputs": [
    {
     "name": "stdout",
     "output_type": "stream",
     "text": [
      "Kota yang memiliki Mobil Bekas paling banyak adalah Mumbai dengan jumlah 790 mobil bekas\n"
     ]
    }
   ],
   "source": [
    "data_2 = df.copy()\n",
    "data_2 = data_2.groupby( ['Location'], as_index=False ).agg( { 'Owner_Type' : 'count' } )\n",
    "data_2 = data_2.loc[ data_2['Owner_Type'].idxmax() ]\n",
    "print( \"Kota yang memiliki Mobil Bekas paling banyak adalah {kota} dengan jumlah {jumlah} mobil bekas\".format(\n",
    "    kota=data_2['Location'],\n",
    "    jumlah=data_2['Owner_Type']\n",
    ") )"
   ]
  },
  {
   "cell_type": "markdown",
   "metadata": {
    "colab_type": "text",
    "id": "xaV0qDVFAGqZ"
   },
   "source": [
    "### 3. Bagaimana distribusi tahun edisi mobil-mobil bekas tersebut?"
   ]
  },
  {
   "cell_type": "code",
   "execution_count": null,
   "metadata": {
    "colab": {
     "base_uri": "https://localhost:8080/"
    },
    "colab_type": "code",
    "id": "p_CTqNX2AIGw",
    "outputId": "b3990230-dd18-4ae9-c0e3-a879a7d1702d"
   },
   "outputs": [
    {
     "data": {
      "image/png": "[encoded data removed]",
      "text/plain": [
       "<Figure size 432x288 with 1 Axes>"
      ]
     },
     "metadata": {
      "needs_background": "light",
      "tags": []
     },
     "output_type": "display_data"
    }
   ],
   "source": [
    "data_3 = df.copy()\n",
    "ax = sns.distplot( data_3['Year'], hist=True, rug=False, kde=False )\n",
    "ax.set_title('Distribusi Tahun Edisi Mobil')\n",
    "ax.set( xlabel='Year', ylabel='Frekuensi' )\n",
    "plt.show()"
   ]
  },
  {
   "cell_type": "code",
   "execution_count": null,
   "metadata": {
    "colab": {
     "base_uri": "https://localhost:8080/"
    },
    "colab_type": "code",
    "id": "WXyuy6aKQ_Qh",
    "outputId": "da6af821-710b-4a04-b442-e6327d8b40ac"
   },
   "outputs": [
    {
     "data": {
      "text/html": [
       "<div>\n",
       "<style scoped>\n",
       "    .dataframe tbody tr th:only-of-type {\n",
       "        vertical-align: middle;\n",
       "    }\n",
       "\n",
       "    .dataframe tbody tr th {\n",
       "        vertical-align: top;\n",
       "    }\n",
       "\n",
       "    .dataframe thead th {\n",
       "        text-align: right;\n",
       "    }\n",
       "</style>\n",
       "<table border=\"1\" class=\"dataframe\">\n",
       "  <thead>\n",
       "    <tr style=\"text-align: right;\">\n",
       "      <th></th>\n",
       "      <th>Tahun</th>\n",
       "      <th>Jumlah</th>\n",
       "    </tr>\n",
       "  </thead>\n",
       "  <tbody>\n",
       "    <tr>\n",
       "      <th>0</th>\n",
       "      <td>1998</td>\n",
       "      <td>4</td>\n",
       "    </tr>\n",
       "    <tr>\n",
       "      <th>1</th>\n",
       "      <td>1999</td>\n",
       "      <td>2</td>\n",
       "    </tr>\n",
       "    <tr>\n",
       "      <th>2</th>\n",
       "      <td>2000</td>\n",
       "      <td>4</td>\n",
       "    </tr>\n",
       "    <tr>\n",
       "      <th>3</th>\n",
       "      <td>2001</td>\n",
       "      <td>8</td>\n",
       "    </tr>\n",
       "    <tr>\n",
       "      <th>4</th>\n",
       "      <td>2002</td>\n",
       "      <td>15</td>\n",
       "    </tr>\n",
       "    <tr>\n",
       "      <th>5</th>\n",
       "      <td>2003</td>\n",
       "      <td>17</td>\n",
       "    </tr>\n",
       "    <tr>\n",
       "      <th>6</th>\n",
       "      <td>2004</td>\n",
       "      <td>31</td>\n",
       "    </tr>\n",
       "    <tr>\n",
       "      <th>7</th>\n",
       "      <td>2005</td>\n",
       "      <td>57</td>\n",
       "    </tr>\n",
       "    <tr>\n",
       "      <th>8</th>\n",
       "      <td>2006</td>\n",
       "      <td>78</td>\n",
       "    </tr>\n",
       "    <tr>\n",
       "      <th>9</th>\n",
       "      <td>2007</td>\n",
       "      <td>125</td>\n",
       "    </tr>\n",
       "    <tr>\n",
       "      <th>10</th>\n",
       "      <td>2008</td>\n",
       "      <td>174</td>\n",
       "    </tr>\n",
       "    <tr>\n",
       "      <th>11</th>\n",
       "      <td>2009</td>\n",
       "      <td>198</td>\n",
       "    </tr>\n",
       "    <tr>\n",
       "      <th>12</th>\n",
       "      <td>2010</td>\n",
       "      <td>342</td>\n",
       "    </tr>\n",
       "    <tr>\n",
       "      <th>13</th>\n",
       "      <td>2011</td>\n",
       "      <td>466</td>\n",
       "    </tr>\n",
       "    <tr>\n",
       "      <th>14</th>\n",
       "      <td>2012</td>\n",
       "      <td>580</td>\n",
       "    </tr>\n",
       "    <tr>\n",
       "      <th>15</th>\n",
       "      <td>2013</td>\n",
       "      <td>649</td>\n",
       "    </tr>\n",
       "    <tr>\n",
       "      <th>16</th>\n",
       "      <td>2014</td>\n",
       "      <td>797</td>\n",
       "    </tr>\n",
       "    <tr>\n",
       "      <th>17</th>\n",
       "      <td>2015</td>\n",
       "      <td>744</td>\n",
       "    </tr>\n",
       "    <tr>\n",
       "      <th>18</th>\n",
       "      <td>2016</td>\n",
       "      <td>741</td>\n",
       "    </tr>\n",
       "    <tr>\n",
       "      <th>19</th>\n",
       "      <td>2017</td>\n",
       "      <td>587</td>\n",
       "    </tr>\n",
       "    <tr>\n",
       "      <th>20</th>\n",
       "      <td>2018</td>\n",
       "      <td>298</td>\n",
       "    </tr>\n",
       "    <tr>\n",
       "      <th>21</th>\n",
       "      <td>2019</td>\n",
       "      <td>102</td>\n",
       "    </tr>\n",
       "  </tbody>\n",
       "</table>\n",
       "</div>"
      ],
      "text/plain": [
       "    Tahun  Jumlah\n",
       "0    1998       4\n",
       "1    1999       2\n",
       "2    2000       4\n",
       "3    2001       8\n",
       "4    2002      15\n",
       "5    2003      17\n",
       "6    2004      31\n",
       "7    2005      57\n",
       "8    2006      78\n",
       "9    2007     125\n",
       "10   2008     174\n",
       "11   2009     198\n",
       "12   2010     342\n",
       "13   2011     466\n",
       "14   2012     580\n",
       "15   2013     649\n",
       "16   2014     797\n",
       "17   2015     744\n",
       "18   2016     741\n",
       "19   2017     587\n",
       "20   2018     298\n",
       "21   2019     102"
      ]
     },
     "execution_count": 12,
     "metadata": {
      "tags": []
     },
     "output_type": "execute_result"
    }
   ],
   "source": [
    "data_3 = df.copy()\n",
    "data_3 = data_3.groupby( ['Year'], as_index=False ).agg( { 'Name' : 'count' } )\n",
    "data_3.columns = [ 'Tahun', 'Jumlah' ]\n",
    "data_3"
   ]
  },
  {
   "cell_type": "markdown",
   "metadata": {
    "colab_type": "text",
    "id": "ngMMWcBikdgx"
   },
   "source": [
    "### 4. Berapa banyak mobil yang memiliki total jarak pemakaian di bawah 100.000 kilometer?"
   ]
  },
  {
   "cell_type": "code",
   "execution_count": null,
   "metadata": {
    "colab": {
     "base_uri": "https://localhost:8080/"
    },
    "colab_type": "code",
    "id": "sy8GUxtUjEjS",
    "outputId": "ee43acd8-487a-45e9-bc50-b090c02beb87"
   },
   "outputs": [
    {
     "data": {
      "text/plain": [
       "5470"
      ]
     },
     "execution_count": 13,
     "metadata": {
      "tags": []
     },
     "output_type": "execute_result"
    }
   ],
   "source": [
    "data_4 = df.copy()\n",
    "data_4[ data_4['Kilometers_Driven'] < 100000 ]['Name'].count()"
   ]
  },
  {
   "cell_type": "markdown",
   "metadata": {
    "colab_type": "text",
    "id": "fYwYhbuvodRR"
   },
   "source": [
    "### 5 Pada batas berapa kilometer total jarak pemakaian bisa dikategorikan sebagai rendah atau tinggi? Sertakan argumen yang mendukung jawaban."
   ]
  },
  {
   "cell_type": "code",
   "execution_count": null,
   "metadata": {
    "colab": {},
    "colab_type": "code",
    "id": "u8q0AqEppTsT"
   },
   "outputs": [],
   "source": [
    "data_5 = df.copy()"
   ]
  },
  {
   "cell_type": "code",
   "execution_count": null,
   "metadata": {
    "colab": {
     "base_uri": "https://localhost:8080/"
    },
    "colab_type": "code",
    "id": "aa4N87wIo-CR",
    "outputId": "5f1a4ea9-f8e1-4f69-d100-54495aa0051b"
   },
   "outputs": [
    {
     "data": {
      "image/png": "[encoded data removed]",
      "text/plain": [
       "<Figure size 432x288 with 1 Axes>"
      ]
     },
     "metadata": {
      "needs_background": "light",
      "tags": []
     },
     "output_type": "display_data"
    }
   ],
   "source": [
    "total_jarak_med = data_5.loc[ data_5['Kilometers_Driven'] < 100000 ]\n",
    "total_jarak_med = total_jarak_med.loc[:,'Kilometers_Driven']\n",
    "sns.stripplot(data=total_jarak_med,size=2,jitter=True)\n",
    "plt.title(\"Persebaran data Kilometer Driven\")\n",
    "plt.show()"
   ]
  },
  {
   "cell_type": "code",
   "execution_count": null,
   "metadata": {
    "colab": {
     "base_uri": "https://localhost:8080/"
    },
    "colab_type": "code",
    "id": "CoaFhJ3Oofm4",
    "outputId": "2c9ad65a-53fe-4c25-cdbb-22a6b1b96b45"
   },
   "outputs": [
    {
     "data": {
      "text/plain": [
       "53000.0"
      ]
     },
     "execution_count": 16,
     "metadata": {
      "tags": []
     },
     "output_type": "execute_result"
    }
   ],
   "source": [
    "# total_jarak_med = data_5.loc[:,'Kilometers_Driven']\n",
    "# total_jarak_arr_med = np.array(total_jarak_med)\n",
    "# rata_med = np.median(total_jarak_arr_med)\n",
    "# rata_pembulatan_med = rata_med.round()\n",
    "# rata_pembulatan_med\n",
    "data_5['Kilometers_Driven'].median()"
   ]
  },
  {
   "cell_type": "markdown",
   "metadata": {
    "colab_type": "text",
    "id": "CEOaffK_Ann0"
   },
   "source": [
    "### 6. Apakah terdapat outlier pada kolom Kilometers_Driven? Sertakan argumen yang mendukung jawaban."
   ]
  },
  {
   "cell_type": "code",
   "execution_count": null,
   "metadata": {
    "colab": {
     "base_uri": "https://localhost:8080/"
    },
    "colab_type": "code",
    "id": "kLBO2EWPAtGB",
    "outputId": "5cdec836-1bef-4464-ee57-4ebfa799cd9e"
   },
   "outputs": [
    {
     "data": {
      "text/plain": [
       "Text(0.5, 1.0, \"Persebaran Data Pada Field 'Kilometers_Driven'\")"
      ]
     },
     "execution_count": 17,
     "metadata": {
      "tags": []
     },
     "output_type": "execute_result"
    },
    {
     "data": {
      "image/png": "[encoded data removed]",
      "text/plain": [
       "<Figure size 432x288 with 1 Axes>"
      ]
     },
     "metadata": {
      "needs_background": "light",
      "tags": []
     },
     "output_type": "display_data"
    }
   ],
   "source": [
    "data_6 = df.copy()\n",
    "sns.boxplot( x=data_6['Kilometers_Driven'] ).set_title( \"Persebaran Data Pada Field 'Kilometers_Driven'\" )"
   ]
  },
  {
   "cell_type": "markdown",
   "metadata": {
    "colab_type": "text",
    "id": "kZcvsyUIO6C0"
   },
   "source": [
    "Terdapat outlier pada fitur **Kilometers_Driven** di lihat dari data yang berada pada kanan sangat jauh dari mayoritas data"
   ]
  },
  {
   "cell_type": "markdown",
   "metadata": {
    "colab_type": "text",
    "id": "M5g5IJ4xF_Pr"
   },
   "source": [
    "### 7. Apakah tahun pembuatan mobil berpengaruh terhadap total jarak pemakaian? Sertakan argumen yang mendukung jawaban."
   ]
  },
  {
   "cell_type": "code",
   "execution_count": null,
   "metadata": {
    "colab": {
     "base_uri": "https://localhost:8080/"
    },
    "colab_type": "code",
    "id": "E8rax0MuGDJG",
    "outputId": "e2db3b7d-b5f1-4687-c943-5651453baa0f"
   },
   "outputs": [
    {
     "data": {
      "text/html": [
       "<div>\n",
       "<style scoped>\n",
       "    .dataframe tbody tr th:only-of-type {\n",
       "        vertical-align: middle;\n",
       "    }\n",
       "\n",
       "    .dataframe tbody tr th {\n",
       "        vertical-align: top;\n",
       "    }\n",
       "\n",
       "    .dataframe thead th {\n",
       "        text-align: right;\n",
       "    }\n",
       "</style>\n",
       "<table border=\"1\" class=\"dataframe\">\n",
       "  <thead>\n",
       "    <tr style=\"text-align: right;\">\n",
       "      <th></th>\n",
       "      <th>Year</th>\n",
       "      <th>Kilometers_Driven</th>\n",
       "    </tr>\n",
       "  </thead>\n",
       "  <tbody>\n",
       "    <tr>\n",
       "      <th>Year</th>\n",
       "      <td>1.000000</td>\n",
       "      <td>-0.173048</td>\n",
       "    </tr>\n",
       "    <tr>\n",
       "      <th>Kilometers_Driven</th>\n",
       "      <td>-0.173048</td>\n",
       "      <td>1.000000</td>\n",
       "    </tr>\n",
       "  </tbody>\n",
       "</table>\n",
       "</div>"
      ],
      "text/plain": [
       "                       Year  Kilometers_Driven\n",
       "Year               1.000000          -0.173048\n",
       "Kilometers_Driven -0.173048           1.000000"
      ]
     },
     "execution_count": 18,
     "metadata": {
      "tags": []
     },
     "output_type": "execute_result"
    }
   ],
   "source": [
    "data_7 = df.copy()\n",
    "data_7 = data_7[ [ 'Year', 'Kilometers_Driven' ] ]\n",
    "data_7.corr()"
   ]
  },
  {
   "cell_type": "code",
   "execution_count": null,
   "metadata": {
    "colab": {
     "base_uri": "https://localhost:8080/"
    },
    "colab_type": "code",
    "id": "zX2skLICKiVn",
    "outputId": "5509218c-e063-4ac9-b262-b6baca9d3506"
   },
   "outputs": [
    {
     "data": {
      "text/plain": [
       "Text(0.5, 1.0, 'Heatmap Korelasi')"
      ]
     },
     "execution_count": 19,
     "metadata": {
      "tags": []
     },
     "output_type": "execute_result"
    },
    {
     "data": {
      "image/png": "[encoded data removed]",
      "text/plain": [
       "<Figure size 432x288 with 2 Axes>"
      ]
     },
     "metadata": {
      "needs_background": "light",
      "tags": []
     },
     "output_type": "display_data"
    }
   ],
   "source": [
    "sns.heatmap(data_7.corr()).set_title( 'Heatmap Korelasi' )"
   ]
  },
  {
   "cell_type": "markdown",
   "metadata": {
    "colab_type": "text",
    "id": "iMjKISi_HLzI"
   },
   "source": [
    "Tidak, karena memiliki korelasi yang negativ antara Year dan Kilometers_Driven"
   ]
  },
  {
   "cell_type": "markdown",
   "metadata": {
    "colab_type": "text",
    "id": "tS85rTmwIsPw"
   },
   "source": [
    "### 8. Berapa banyak mobil yang merupakan kepemilikan ketiga atau lebih?"
   ]
  },
  {
   "cell_type": "code",
   "execution_count": null,
   "metadata": {
    "colab": {
     "base_uri": "https://localhost:8080/"
    },
    "colab_type": "code",
    "id": "doKc2MJYlLDn",
    "outputId": "68a844eb-fdbb-4df0-9b28-39cdd51b4c46"
   },
   "outputs": [
    {
     "data": {
      "text/plain": [
       "122"
      ]
     },
     "execution_count": 20,
     "metadata": {
      "tags": []
     },
     "output_type": "execute_result"
    }
   ],
   "source": [
    "data_8 = df.copy()\n",
    "data_8[ ~data_8['Owner_Type'].isin( [ 'First', 'Second' ] ) ]['Name'].count()"
   ]
  },
  {
   "cell_type": "markdown",
   "metadata": {
    "colab_type": "text",
    "id": "5cyXYhTG_S2A"
   },
   "source": [
    "### 9. Tipe bahan bakar apa yang memiliki mileage (konsumsi bahan bakar) paling hemat?"
   ]
  },
  {
   "cell_type": "code",
   "execution_count": null,
   "metadata": {
    "colab": {},
    "colab_type": "code",
    "id": "Uzh2Zgvinc1h"
   },
   "outputs": [],
   "source": [
    "data_9 = df.copy()\n",
    "# memisahkan nilai dari field 'Mileage antar nilai dan satuan'\n",
    "milage = data_9[ ~data_9['Mileage'].isnull() ]['Mileage'].str.split( ' ' )\n",
    "data_9.loc[ ~data_9['Mileage'].isnull(), 'Mileage_unit' ] = milage.apply( lambda x: x[1] )\n",
    "data_9.loc[ ~data_9['Mileage'].isnull(), 'Mileage' ] = milage.apply( lambda x: x[0] ).astype(float)\n",
    "\n",
    "del milage"
   ]
  },
  {
   "cell_type": "code",
   "execution_count": null,
   "metadata": {
    "colab": {
     "base_uri": "https://localhost:8080/"
    },
    "colab_type": "code",
    "id": "ADjgAilaaOKM",
    "outputId": "5ebe7104-731d-4807-aa00-47d672765ef2"
   },
   "outputs": [
    {
     "data": {
      "text/plain": [
       "(array(['CNG', 'Diesel', 'Petrol', 'LPG', 'Electric'], dtype=object),\n",
       " array(['km/kg', 'kmpl', nan], dtype=object))"
      ]
     },
     "execution_count": 22,
     "metadata": {
      "tags": []
     },
     "output_type": "execute_result"
    }
   ],
   "source": [
    "#print tipe fuel dan satuan mileage \n",
    "Fuel_Type = data_9['Fuel_Type'].unique()\n",
    "Mileage_unit = data_9['Mileage_unit'].unique()\n",
    "Fuel_Type, Mileage_unit"
   ]
  },
  {
   "cell_type": "code",
   "execution_count": null,
   "metadata": {
    "colab": {
     "base_uri": "https://localhost:8080/"
    },
    "colab_type": "code",
    "id": "kg8OPHmiavy9",
    "outputId": "adf94a87-ff57-48cb-c5e8-bc87661a6c0e"
   },
   "outputs": [
    {
     "name": "stdout",
     "output_type": "stream",
     "text": [
      "CNG - km/kg --> 56\n",
      "CNG - kmpl --> 0\n",
      "CNG - nan --> 0\n",
      "Diesel - km/kg --> 0\n",
      "Diesel - kmpl --> 3205\n",
      "Diesel - nan --> 0\n",
      "Petrol - km/kg --> 0\n",
      "Petrol - kmpl --> 2746\n",
      "Petrol - nan --> 0\n",
      "LPG - km/kg --> 10\n",
      "LPG - kmpl --> 0\n",
      "LPG - nan --> 0\n",
      "Electric - km/kg --> 0\n",
      "Electric - kmpl --> 0\n",
      "Electric - nan --> 0\n"
     ]
    }
   ],
   "source": [
    "# menghitung jumlah nilai dari setiap fuel_type-mileage_unit dan jumlahnya\n",
    "for fuel in Fuel_Type:\n",
    "  for milage_unit in Mileage_unit:\n",
    "    res = data_9[ (data_9['Fuel_Type'] == fuel) & (data_9['Mileage_unit'] == milage_unit) & ~(data_9['Mileage_unit'].isnull() ) ]['Name'].count()\n",
    "    print( \"{fuel} - {milage_unit} --> {res}\".format(\n",
    "        fuel=fuel,\n",
    "        milage_unit=milage_unit,\n",
    "        res=res\n",
    "    ) )"
   ]
  },
  {
   "cell_type": "markdown",
   "metadata": {
    "colab_type": "text",
    "id": "MiizdJFPcm9Y"
   },
   "source": [
    "Melihat jumlah data dengan satuang **kmpl** lebih banyak dibanding km/kg maka kita rubah semua data menjadi satuan **kmpl**"
   ]
  },
  {
   "cell_type": "code",
   "execution_count": null,
   "metadata": {
    "colab": {},
    "colab_type": "code",
    "id": "D4pHbcUvcc5b"
   },
   "outputs": [],
   "source": [
    "# semua data di convert ke kmpl\n",
    "ratio_liter_to_kg = {\n",
    "    'CNG'     : 1.4,\n",
    "    'Diesel'  : 0.832,\n",
    "    'Petrol'  : 77.0,\n",
    "    'LPG'     : 0.5102\n",
    "}\n",
    "\n",
    "for fuel, ratio in ratio_liter_to_kg.items():\n",
    "  condition = (data_9['Fuel_Type'] == fuel) & (data_9['Mileage_unit'] == Mileage_unit [ 0 ] ) & ~(data_9['Mileage_unit'].isnull() )\n",
    "  data_9.loc[ condition, ['Mileage'] ] = data_9.loc[ condition, ['Mileage'] ] * ratio\n",
    "  data_9.loc[ condition, ['Mileage_unit'] ] = Mileage_unit [ 1 ]"
   ]
  },
  {
   "cell_type": "code",
   "execution_count": null,
   "metadata": {
    "colab": {
     "base_uri": "https://localhost:8080/"
    },
    "colab_type": "code",
    "id": "CJPrIzs0fUDG",
    "outputId": "62ca7772-a97a-46c6-eebb-a4534e8c844a"
   },
   "outputs": [
    {
     "name": "stdout",
     "output_type": "stream",
     "text": [
      "CNG - km/kg --> 0\n",
      "CNG - kmpl --> 56\n",
      "CNG - nan --> 0\n",
      "Diesel - km/kg --> 0\n",
      "Diesel - kmpl --> 3205\n",
      "Diesel - nan --> 0\n",
      "Petrol - km/kg --> 0\n",
      "Petrol - kmpl --> 2746\n",
      "Petrol - nan --> 0\n",
      "LPG - km/kg --> 0\n",
      "LPG - kmpl --> 10\n",
      "LPG - nan --> 0\n",
      "Electric - km/kg --> 0\n",
      "Electric - kmpl --> 0\n",
      "Electric - nan --> 0\n"
     ]
    }
   ],
   "source": [
    "for fuel in Fuel_Type:\n",
    "  for milage_unit in Mileage_unit:\n",
    "\n",
    "    res = data_9[ (data_9['Fuel_Type'] == fuel) & (data_9['Mileage_unit'] == milage_unit) & ~(data_9['Mileage_unit'].isnull() ) ]['Name'].count()\n",
    "    print( \"{fuel} - {milage_unit} --> {res}\".format(\n",
    "        fuel=fuel,\n",
    "        milage_unit=milage_unit,\n",
    "        res=res\n",
    "    ) )"
   ]
  },
  {
   "cell_type": "code",
   "execution_count": null,
   "metadata": {
    "colab": {
     "base_uri": "https://localhost:8080/"
    },
    "colab_type": "code",
    "id": "tG4Hn0KsUG1I",
    "outputId": "a6408f20-091d-4265-a55d-a45a5998903a"
   },
   "outputs": [
    {
     "name": "stdout",
     "output_type": "stream",
     "text": [
      "<class 'pandas.core.frame.DataFrame'>\n",
      "RangeIndex: 6019 entries, 0 to 6018\n",
      "Data columns (total 13 columns):\n",
      " #   Column             Non-Null Count  Dtype  \n",
      "---  ------             --------------  -----  \n",
      " 0   Name               6019 non-null   object \n",
      " 1   Location           6019 non-null   object \n",
      " 2   Year               6019 non-null   int64  \n",
      " 3   Kilometers_Driven  6019 non-null   int64  \n",
      " 4   Fuel_Type          6019 non-null   object \n",
      " 5   Transmission       6019 non-null   object \n",
      " 6   Owner_Type         6019 non-null   object \n",
      " 7   Mileage            6017 non-null   object \n",
      " 8   Engine             5983 non-null   object \n",
      " 9   Power              5983 non-null   object \n",
      " 10  Seats              5977 non-null   float64\n",
      " 11  Price              6019 non-null   float64\n",
      " 12  Mileage_unit       6017 non-null   object \n",
      "dtypes: float64(2), int64(2), object(9)\n",
      "memory usage: 611.4+ KB\n"
     ]
    }
   ],
   "source": [
    "data_9.info()"
   ]
  },
  {
   "cell_type": "code",
   "execution_count": null,
   "metadata": {
    "colab": {
     "base_uri": "https://localhost:8080/"
    },
    "colab_type": "code",
    "id": "x4vd4wT6riYc",
    "outputId": "9e7e1baa-4c06-482f-c55a-9d411043c07a"
   },
   "outputs": [
    {
     "name": "stdout",
     "output_type": "stream",
     "text": [
      "CNG  : Mean -->  35.58525000000001\n",
      "CNG  : Median -->  37.24\n",
      "CNG  : Mode -->  0    37.24\n",
      "dtype: object\n",
      "Diesel  : Mean -->  18.62048361934485\n",
      "Diesel  : Median -->  19.01\n",
      "Diesel  : Mode -->  0    20\n",
      "dtype: object\n",
      "Petrol  : Mean -->  17.415203932993382\n",
      "Petrol  : Median -->  17.8\n",
      "Petrol  : Mode -->  0    18.9\n",
      "dtype: object\n",
      "LPG  : Mean -->  9.890227\n",
      "LPG  : Median -->  9.311150000000001\n",
      "LPG  : Mode -->  0    6.86219\n",
      "1    13.3672\n",
      "dtype: object\n",
      "Electric  : Mean -->  nan\n",
      "Electric  : Median -->  nan\n",
      "Electric  : Mode -->  Series([], dtype: object)\n"
     ]
    },
    {
     "name": "stderr",
     "output_type": "stream",
     "text": [
      "/usr/local/lib/python3.6/dist-packages/seaborn/distributions.py:198: RuntimeWarning: Mean of empty slice.\n",
      "  line, = ax.plot(a.mean(), 0)\n",
      "/usr/local/lib/python3.6/dist-packages/numpy/core/_methods.py:161: RuntimeWarning: invalid value encountered in double_scalars\n",
      "  ret = ret.dtype.type(ret / rcount)\n",
      "/usr/local/lib/python3.6/dist-packages/numpy/lib/histograms.py:908: RuntimeWarning: invalid value encountered in true_divide\n",
      "  return n/db/n.sum(), bin_edges\n",
      "/usr/local/lib/python3.6/dist-packages/numpy/lib/nanfunctions.py:1113: RuntimeWarning: Mean of empty slice\n",
      "  return np.nanmean(a, axis, out=out, keepdims=keepdims)\n"
     ]
    },
    {
     "data": {
      "image/png": "[encoded data removed]",
      "text/plain": [
       "<Figure size 720x2160 with 5 Axes>"
      ]
     },
     "metadata": {
      "needs_background": "light",
      "tags": []
     },
     "output_type": "display_data"
    }
   ],
   "source": [
    "#menghitung nilai mean, median dan mode untuk setiap fuel type\n",
    "Fuel_Type = data_9['Fuel_Type'].unique()\n",
    "\n",
    "fig, axes = plt.subplots(ncols=1, nrows=Fuel_Type.shape[0], figsize=(10,30))\n",
    "\n",
    "for fuel, ax in zip( Fuel_Type, axes.flat ):\n",
    "\n",
    "  data = data_9[ data_9['Fuel_Type'] == fuel ]['Mileage']\n",
    "\n",
    "  sns.distplot( data, hist=True, rug=False, ax=ax )\n",
    "  ax.axvline( data.mean() , color='red', label='Mean' )\n",
    "  ax.axvline( data.median() , color='yellow', label='Median' )\n",
    "\n",
    "  for mode in data.mode():\n",
    "    ax.axvline( mode , color='green', label='Mode')\n",
    "  \n",
    "  print( fuel, ' : Mean --> ', data.mean() )\n",
    "  print( fuel, ' : Median --> ', data.median() )\n",
    "  print( fuel, ' : Mode --> ', data.mode() )\n",
    "\n",
    "  ax.title.set_text( \"Distribusi \" + fuel )\n",
    "  fig.tight_layout()\n",
    "  ax.legend()\n",
    "plt.show()"
   ]
  },
  {
   "cell_type": "markdown",
   "metadata": {
    "colab_type": "text",
    "id": "DQa8izaL_Ves"
   },
   "source": [
    "Melihat Distribusi di atas bahwa Cetral Tendency yang dapat menggambarkan atau mewakili data hanya Mean dan Median."
   ]
  },
  {
   "cell_type": "code",
   "execution_count": null,
   "metadata": {
    "colab": {
     "base_uri": "https://localhost:8080/"
    },
    "colab_type": "code",
    "id": "M74_fmyC0rHJ",
    "outputId": "2fb2c65d-886b-452c-eac8-fc8211ef8962"
   },
   "outputs": [
    {
     "name": "stderr",
     "output_type": "stream",
     "text": [
      "/usr/local/lib/python3.6/dist-packages/numpy/lib/nanfunctions.py:1113: RuntimeWarning: Mean of empty slice\n",
      "  return np.nanmean(a, axis, out=out, keepdims=keepdims)\n"
     ]
    },
    {
     "data": {
      "text/plain": [
       "[{'mean': 35.58525000000001, 'median': 37.24, 'name': 'CNG'},\n",
       " {'mean': 18.62048361934485, 'median': 19.01, 'name': 'Diesel'},\n",
       " {'mean': 17.415203932993382, 'median': 17.8, 'name': 'Petrol'},\n",
       " {'mean': 9.890227, 'median': 9.311150000000001, 'name': 'LPG'},\n",
       " {'mean': nan, 'median': nan, 'name': 'Electric'}]"
      ]
     },
     "execution_count": 28,
     "metadata": {
      "tags": []
     },
     "output_type": "execute_result"
    }
   ],
   "source": [
    "#dicari nilai yang paling minimal dari hasil mean dan median per fuel type\n",
    "data = [ { 'name': f, 'mean': data_9[ data_9['Fuel_Type'] == f ]['Mileage'].mean(), 'median': data_9[ data_9['Fuel_Type'] == f ]['Mileage'].median() } for f in Fuel_Type ]\n",
    "data"
   ]
  },
  {
   "cell_type": "code",
   "execution_count": null,
   "metadata": {
    "colab": {
     "base_uri": "https://localhost:8080/"
    },
    "colab_type": "code",
    "id": "D9zWszDE-724",
    "outputId": "8788e668-3790-4aa4-edab-83fded5aea68"
   },
   "outputs": [
    {
     "data": {
      "text/plain": [
       "{'mean': 9.890227, 'median': 9.311150000000001, 'name': 'LPG'}"
      ]
     },
     "execution_count": 29,
     "metadata": {
      "tags": []
     },
     "output_type": "execute_result"
    }
   ],
   "source": [
    "median_min = min( data, key=lambda x: x['median'] )\n",
    "median_min"
   ]
  },
  {
   "cell_type": "code",
   "execution_count": null,
   "metadata": {
    "colab": {
     "base_uri": "https://localhost:8080/"
    },
    "colab_type": "code",
    "id": "NBCkDXa0_GBZ",
    "outputId": "4157432a-add1-4d1d-c11c-4c3a76af9142"
   },
   "outputs": [
    {
     "data": {
      "text/plain": [
       "{'mean': 9.890227, 'median': 9.311150000000001, 'name': 'LPG'}"
      ]
     },
     "execution_count": 30,
     "metadata": {
      "tags": []
     },
     "output_type": "execute_result"
    }
   ],
   "source": [
    "mean_min = min( data, key=lambda x: x['mean'] )\n",
    "mean_min"
   ]
  },
  {
   "cell_type": "markdown",
   "metadata": {
    "colab_type": "text",
    "id": "Jw8fc6vi_g9u"
   },
   "source": [
    "Hasil dari minimum median dan mean adalah Bahan Bakar dengan jenis LPG, maka bahan bakar dengan Mileage paling hemat adalah **LPG**"
   ]
  },
  {
   "cell_type": "markdown",
   "metadata": {
    "colab_type": "text",
    "id": "V6MNyfMnHXxZ"
   },
   "source": [
    "### 10. Apa saja faktor-faktor yang mempengaruhi harga mobil bekas di India? Sertakan argumen yang mendukung jawaban."
   ]
  },
  {
   "cell_type": "code",
   "execution_count": null,
   "metadata": {
    "colab": {},
    "colab_type": "code",
    "id": "FUi68Rul_Izg"
   },
   "outputs": [],
   "source": [
    "data_10 = df.copy()"
   ]
  },
  {
   "cell_type": "code",
   "execution_count": null,
   "metadata": {
    "colab": {
     "base_uri": "https://localhost:8080/",
     "height": 71
    },
    "colab_type": "code",
    "id": "sAlL60IHK0uJ",
    "outputId": "1d1f10e3-0a2e-44c3-dc32-70934d1c855d"
   },
   "outputs": [
    {
     "name": "stderr",
     "output_type": "stream",
     "text": [
      "/usr/local/lib/python3.6/dist-packages/pandas/core/ops/array_ops.py:253: FutureWarning: elementwise comparison failed; returning scalar instead, but in the future will perform elementwise comparison\n",
      "  res_values = method(rvalues)\n"
     ]
    }
   ],
   "source": [
    "data_10['Merek'] = data_10['Name'].apply( lambda x: x.split( \" \" )[ 0 ] )\n",
    "\n",
    "lb_make = LabelEncoder()\n",
    "#ubah nilai data menjadi number agar dapat dikalkulasikan\n",
    "data_10['Merek'] = lb_make.fit_transform( data_10['Merek'] )\n",
    "data_10['Location'] = lb_make.fit_transform( data_10['Location'] )\n",
    "data_10['Fuel_Type'] = lb_make.fit_transform( data_10['Fuel_Type'] )\n",
    "data_10['Transmission'] = lb_make.fit_transform( data_10['Transmission'] )\n",
    "data_10['Owner_Type'] = lb_make.fit_transform( data_10['Owner_Type'] )\n",
    "\n",
    "milage = data_10[ ~data_10['Mileage'].isnull() ]['Mileage'].str.split( ' ' )\n",
    "data_10.loc[ ~data_10['Mileage'].isnull(), 'Mileage_unit' ] = milage.apply( lambda x: x[1] )\n",
    "data_10.loc[ ~data_10['Mileage'].isnull(), 'Mileage' ] = milage.apply( lambda x: x[0] ).astype(float)\n",
    "#mileage jadiin satu nilai dengan fuel type yang berbeda\n",
    "ratio_liter_to_kg = {\n",
    "    'CNG'     : 1.4,\n",
    "    'Diesel'  : 0.832,\n",
    "    'Petrol'  : 77.0,\n",
    "    'LPG'     : 0.5102\n",
    "}\n",
    "\n",
    "for fuel, ratio in ratio_liter_to_kg.items():\n",
    "  condition = (data_10['Fuel_Type'] == fuel) & (data_10['Mileage_unit'] == Mileage_unit [ 0 ] ) & ~(data_10['Mileage_unit'].isnull() )\n",
    "  data_10.loc[ condition, ['Mileage'] ] = data_10.loc[ condition, ['Mileage'] ] * ratio\n",
    "  data_10.loc[ condition, ['Mileage_unit'] ] = Mileage_unit [ 1 ]\n",
    "\n",
    "del data_10['Mileage_unit']\n",
    "\n",
    "data_10.loc[ ~data_10['Engine'].isnull(), 'Engine']  = data_10.loc[ ~data_10['Engine'].isnull() ]['Engine'].str.split( ' ' ).apply( lambda x: x[0] ).astype(float)\n",
    "\n",
    "data_10.loc[ ~data_10['Power'].isnull(), 'Power' ] = data_10.loc[ ~data_10['Power'].isnull() ]['Power'].str.split( ' ' ).apply( lambda x: x[0] )\n",
    "data_10.loc[ data_10['Power'] == 'null', 'Power' ] = np.nan\n",
    "data_10['Power'] = data_10['Power'].astype( float )"
   ]
  },
  {
   "cell_type": "code",
   "execution_count": null,
   "metadata": {
    "colab": {
     "base_uri": "https://localhost:8080/",
     "height": 1000
    },
    "colab_type": "code",
    "id": "mXUKpXTlcmyZ",
    "outputId": "35e1761a-5bf2-4310-96a1-51dccdc950e3"
   },
   "outputs": [
    {
     "name": "stdout",
     "output_type": "stream",
     "text": [
      "Mileage  : Mean -->  18.134960943992073\n",
      "Mileage  : Median -->  18.15\n",
      "Mileage  : Mode -->  17.0\n",
      "Engine  : Mean -->  1621.276449941501\n",
      "Engine  : Median -->  1493.0\n",
      "Engine  : Mode -->  1197.0\n",
      "Power  : Mean -->  113.25304969366827\n",
      "Power  : Median -->  97.7\n",
      "Power  : Mode -->  74.0\n",
      "Seats  : Mean -->  5.278735151413753\n",
      "Seats  : Median -->  5.0\n",
      "Seats  : Mode -->  5.0\n"
     ]
    },
    {
     "data": {
      "image/png": "[encoded data removed]",
      "text/plain": [
       "<Figure size 720x2160 with 4 Axes>"
      ]
     },
     "metadata": {
      "needs_background": "light",
      "tags": []
     },
     "output_type": "display_data"
    }
   ],
   "source": [
    "#nilai per kolom dihitung nilai mean, median dan mode\n",
    "fig, axes = plt.subplots(ncols=1, nrows=4, figsize=(10,30))\n",
    "cols = [ 'Mileage', 'Engine', 'Power', 'Seats' ]\n",
    "\n",
    "for col, ax in zip( cols, axes.flat ):\n",
    "\n",
    "  data = data_10[ col ]\n",
    "\n",
    "  sns.distplot( data, hist=True, rug=False, ax=ax )\n",
    "  ax.axvline( data.mean() , color='red', label='Mean' )\n",
    "  ax.axvline( data.median() , color='yellow', label='Median' )\n",
    "\n",
    "  print( col, ' : Mean --> ', data.mean() )\n",
    "  print( col, ' : Median --> ', data.median() )\n",
    "  print( col, ' : Mode --> ', data.mode()[0] )\n",
    "\n",
    "  for mode in data.mode():\n",
    "    ax.axvline( mode , color='green', label='Mode')\n",
    "  \n",
    "  ax.title.set_text( \"Distribusi \" + col )\n",
    "  fig.tight_layout()\n",
    "  ax.legend()\n",
    "plt.show()"
   ]
  },
  {
   "cell_type": "code",
   "execution_count": null,
   "metadata": {
    "colab": {},
    "colab_type": "code",
    "id": "F_bfkIKvcv-N"
   },
   "outputs": [],
   "source": [
    "#ganti nilai null dari setiap kolom menjadi nilai yg paling baik \n",
    "data_10['Mileage'] = data_10['Mileage'].fillna( data_10['Mileage'].mean() )\n",
    "data_10['Engine'] = data_10['Engine'].fillna( data_10['Engine'].mode()[0] )\n",
    "data_10['Power'] = data_10['Power'].fillna( data_10['Power'].mode()[0] )\n",
    "data_10['Seats'] = data_10['Seats'].fillna( data_10['Seats'].median() )"
   ]
  },
  {
   "cell_type": "code",
   "execution_count": null,
   "metadata": {
    "colab": {
     "base_uri": "https://localhost:8080/",
     "height": 441
    },
    "colab_type": "code",
    "id": "6IkbtpcOP0dv",
    "outputId": "11ba2a60-47eb-4f03-ba93-54dd9e8d576c"
   },
   "outputs": [
    {
     "data": {
      "text/html": [
       "<div>\n",
       "<style scoped>\n",
       "    .dataframe tbody tr th:only-of-type {\n",
       "        vertical-align: middle;\n",
       "    }\n",
       "\n",
       "    .dataframe tbody tr th {\n",
       "        vertical-align: top;\n",
       "    }\n",
       "\n",
       "    .dataframe thead th {\n",
       "        text-align: right;\n",
       "    }\n",
       "</style>\n",
       "<table border=\"1\" class=\"dataframe\">\n",
       "  <thead>\n",
       "    <tr style=\"text-align: right;\">\n",
       "      <th></th>\n",
       "      <th>Location</th>\n",
       "      <th>Year</th>\n",
       "      <th>Kilometers_Driven</th>\n",
       "      <th>Fuel_Type</th>\n",
       "      <th>Transmission</th>\n",
       "      <th>Owner_Type</th>\n",
       "      <th>Mileage</th>\n",
       "      <th>Engine</th>\n",
       "      <th>Power</th>\n",
       "      <th>Seats</th>\n",
       "      <th>Price</th>\n",
       "      <th>Merek</th>\n",
       "    </tr>\n",
       "  </thead>\n",
       "  <tbody>\n",
       "    <tr>\n",
       "      <th>Location</th>\n",
       "      <td>1.000000</td>\n",
       "      <td>-0.020117</td>\n",
       "      <td>-0.042751</td>\n",
       "      <td>0.115048</td>\n",
       "      <td>0.040174</td>\n",
       "      <td>-0.033889</td>\n",
       "      <td>0.018773</td>\n",
       "      <td>-0.079206</td>\n",
       "      <td>-0.066067</td>\n",
       "      <td>-0.037607</td>\n",
       "      <td>-0.116620</td>\n",
       "      <td>0.026295</td>\n",
       "    </tr>\n",
       "    <tr>\n",
       "      <th>Year</th>\n",
       "      <td>-0.020117</td>\n",
       "      <td>1.000000</td>\n",
       "      <td>-0.173048</td>\n",
       "      <td>-0.129526</td>\n",
       "      <td>-0.097059</td>\n",
       "      <td>-0.386160</td>\n",
       "      <td>0.321534</td>\n",
       "      <td>-0.046288</td>\n",
       "      <td>0.039699</td>\n",
       "      <td>0.015204</td>\n",
       "      <td>0.305327</td>\n",
       "      <td>0.018578</td>\n",
       "    </tr>\n",
       "    <tr>\n",
       "      <th>Kilometers_Driven</th>\n",
       "      <td>-0.042751</td>\n",
       "      <td>-0.173048</td>\n",
       "      <td>1.000000</td>\n",
       "      <td>-0.102953</td>\n",
       "      <td>0.025663</td>\n",
       "      <td>0.079924</td>\n",
       "      <td>-0.065253</td>\n",
       "      <td>0.090476</td>\n",
       "      <td>0.029932</td>\n",
       "      <td>0.082782</td>\n",
       "      <td>-0.011493</td>\n",
       "      <td>0.028232</td>\n",
       "    </tr>\n",
       "    <tr>\n",
       "      <th>Fuel_Type</th>\n",
       "      <td>0.115048</td>\n",
       "      <td>-0.129526</td>\n",
       "      <td>-0.102953</td>\n",
       "      <td>1.000000</td>\n",
       "      <td>0.125219</td>\n",
       "      <td>0.043017</td>\n",
       "      <td>-0.152125</td>\n",
       "      <td>-0.403143</td>\n",
       "      <td>-0.268118</td>\n",
       "      <td>-0.299306</td>\n",
       "      <td>-0.305207</td>\n",
       "      <td>-0.068246</td>\n",
       "    </tr>\n",
       "    <tr>\n",
       "      <th>Transmission</th>\n",
       "      <td>0.040174</td>\n",
       "      <td>-0.097059</td>\n",
       "      <td>0.025663</td>\n",
       "      <td>0.125219</td>\n",
       "      <td>1.000000</td>\n",
       "      <td>0.003002</td>\n",
       "      <td>0.333096</td>\n",
       "      <td>-0.498935</td>\n",
       "      <td>-0.641545</td>\n",
       "      <td>0.074838</td>\n",
       "      <td>-0.586025</td>\n",
       "      <td>0.168697</td>\n",
       "    </tr>\n",
       "    <tr>\n",
       "      <th>Owner_Type</th>\n",
       "      <td>-0.033889</td>\n",
       "      <td>-0.386160</td>\n",
       "      <td>0.079924</td>\n",
       "      <td>0.043017</td>\n",
       "      <td>0.003002</td>\n",
       "      <td>1.000000</td>\n",
       "      <td>-0.154188</td>\n",
       "      <td>0.046247</td>\n",
       "      <td>0.018352</td>\n",
       "      <td>0.002219</td>\n",
       "      <td>-0.094559</td>\n",
       "      <td>-0.027582</td>\n",
       "    </tr>\n",
       "    <tr>\n",
       "      <th>Mileage</th>\n",
       "      <td>0.018773</td>\n",
       "      <td>0.321534</td>\n",
       "      <td>-0.065253</td>\n",
       "      <td>-0.152125</td>\n",
       "      <td>0.333096</td>\n",
       "      <td>-0.154188</td>\n",
       "      <td>1.000000</td>\n",
       "      <td>-0.581302</td>\n",
       "      <td>-0.481955</td>\n",
       "      <td>-0.299631</td>\n",
       "      <td>-0.306588</td>\n",
       "      <td>-0.013374</td>\n",
       "    </tr>\n",
       "    <tr>\n",
       "      <th>Engine</th>\n",
       "      <td>-0.079206</td>\n",
       "      <td>-0.046288</td>\n",
       "      <td>0.090476</td>\n",
       "      <td>-0.403143</td>\n",
       "      <td>-0.498935</td>\n",
       "      <td>0.046247</td>\n",
       "      <td>-0.581302</td>\n",
       "      <td>1.000000</td>\n",
       "      <td>0.860401</td>\n",
       "      <td>0.393849</td>\n",
       "      <td>0.657196</td>\n",
       "      <td>0.009390</td>\n",
       "    </tr>\n",
       "    <tr>\n",
       "      <th>Power</th>\n",
       "      <td>-0.066067</td>\n",
       "      <td>0.039699</td>\n",
       "      <td>0.029932</td>\n",
       "      <td>-0.268118</td>\n",
       "      <td>-0.641545</td>\n",
       "      <td>0.018352</td>\n",
       "      <td>-0.481955</td>\n",
       "      <td>0.860401</td>\n",
       "      <td>1.000000</td>\n",
       "      <td>0.105539</td>\n",
       "      <td>0.770415</td>\n",
       "      <td>-0.179345</td>\n",
       "    </tr>\n",
       "    <tr>\n",
       "      <th>Seats</th>\n",
       "      <td>-0.037607</td>\n",
       "      <td>0.015204</td>\n",
       "      <td>0.082782</td>\n",
       "      <td>-0.299306</td>\n",
       "      <td>0.074838</td>\n",
       "      <td>0.002219</td>\n",
       "      <td>-0.299631</td>\n",
       "      <td>0.393849</td>\n",
       "      <td>0.105539</td>\n",
       "      <td>1.000000</td>\n",
       "      <td>0.052811</td>\n",
       "      <td>0.189674</td>\n",
       "    </tr>\n",
       "    <tr>\n",
       "      <th>Price</th>\n",
       "      <td>-0.116620</td>\n",
       "      <td>0.305327</td>\n",
       "      <td>-0.011493</td>\n",
       "      <td>-0.305207</td>\n",
       "      <td>-0.586025</td>\n",
       "      <td>-0.094559</td>\n",
       "      <td>-0.306588</td>\n",
       "      <td>0.657196</td>\n",
       "      <td>0.770415</td>\n",
       "      <td>0.052811</td>\n",
       "      <td>1.000000</td>\n",
       "      <td>-0.132929</td>\n",
       "    </tr>\n",
       "    <tr>\n",
       "      <th>Merek</th>\n",
       "      <td>0.026295</td>\n",
       "      <td>0.018578</td>\n",
       "      <td>0.028232</td>\n",
       "      <td>-0.068246</td>\n",
       "      <td>0.168697</td>\n",
       "      <td>-0.027582</td>\n",
       "      <td>-0.013374</td>\n",
       "      <td>0.009390</td>\n",
       "      <td>-0.179345</td>\n",
       "      <td>0.189674</td>\n",
       "      <td>-0.132929</td>\n",
       "      <td>1.000000</td>\n",
       "    </tr>\n",
       "  </tbody>\n",
       "</table>\n",
       "</div>"
      ],
      "text/plain": [
       "                   Location      Year  ...     Price     Merek\n",
       "Location           1.000000 -0.020117  ... -0.116620  0.026295\n",
       "Year              -0.020117  1.000000  ...  0.305327  0.018578\n",
       "Kilometers_Driven -0.042751 -0.173048  ... -0.011493  0.028232\n",
       "Fuel_Type          0.115048 -0.129526  ... -0.305207 -0.068246\n",
       "Transmission       0.040174 -0.097059  ... -0.586025  0.168697\n",
       "Owner_Type        -0.033889 -0.386160  ... -0.094559 -0.027582\n",
       "Mileage            0.018773  0.321534  ... -0.306588 -0.013374\n",
       "Engine            -0.079206 -0.046288  ...  0.657196  0.009390\n",
       "Power             -0.066067  0.039699  ...  0.770415 -0.179345\n",
       "Seats             -0.037607  0.015204  ...  0.052811  0.189674\n",
       "Price             -0.116620  0.305327  ...  1.000000 -0.132929\n",
       "Merek              0.026295  0.018578  ... -0.132929  1.000000\n",
       "\n",
       "[12 rows x 12 columns]"
      ]
     },
     "execution_count": 35,
     "metadata": {
      "tags": []
     },
     "output_type": "execute_result"
    }
   ],
   "source": [
    "data_10.corr()"
   ]
  },
  {
   "cell_type": "code",
   "execution_count": null,
   "metadata": {
    "colab": {
     "base_uri": "https://localhost:8080/",
     "height": 368
    },
    "colab_type": "code",
    "id": "Sgr5H1gdKoF2",
    "outputId": "7453a041-aeea-472a-d802-f1de55a969e5"
   },
   "outputs": [
    {
     "data": {
      "text/plain": [
       "<matplotlib.axes._subplots.AxesSubplot at 0x7f39d8136710>"
      ]
     },
     "execution_count": 36,
     "metadata": {
      "tags": []
     },
     "output_type": "execute_result"
    },
    {
     "data": {
      "image/png": "[encoded data removed]",
      "text/plain": [
       "<Figure size 432x288 with 2 Axes>"
      ]
     },
     "metadata": {
      "needs_background": "light",
      "tags": []
     },
     "output_type": "display_data"
    }
   ],
   "source": [
    "sns.heatmap(data_10.corr())"
   ]
  },
  {
   "cell_type": "markdown",
   "metadata": {
    "colab_type": "text",
    "id": "cT8iRq6liQuT"
   },
   "source": [
    "**Years, Engine, Power, Seats** -> karena fitur tersebut memiliki korelasi positif terhadap Price"
   ]
  },
  {
   "cell_type": "markdown",
   "metadata": {
    "colab_type": "text",
    "id": "mzVuKsTO85tt"
   },
   "source": [
    "## Analisa Tambahan"
   ]
  },
  {
   "cell_type": "markdown",
   "metadata": {
    "colab_type": "text",
    "id": "wb7J5rSlJXql"
   },
   "source": [
    "### Bagaimana Tren Rata - Rata Harga Mobil 'Maruti Wagon R VXI'"
   ]
  },
  {
   "cell_type": "code",
   "execution_count": null,
   "metadata": {
    "colab": {},
    "colab_type": "code",
    "id": "1fX5e22X8-xq"
   },
   "outputs": [],
   "source": [
    "data_11 = df.copy()"
   ]
  },
  {
   "cell_type": "code",
   "execution_count": null,
   "metadata": {
    "colab": {
     "base_uri": "https://localhost:8080/",
     "height": 312
    },
    "colab_type": "code",
    "id": "wNARUTodBaXd",
    "outputId": "c84f6da1-62e7-4d46-db7a-1098e6c61798"
   },
   "outputs": [
    {
     "data": {
      "text/plain": [
       "Text(0.5, 1.0, \"Tren Rata - Rata Harga Mobil 'Maruti Wagon R VXI'\")"
      ]
     },
     "execution_count": 91,
     "metadata": {
      "tags": []
     },
     "output_type": "execute_result"
    },
    {
     "data": {
      "image/png": "[encoded data removed]",
      "text/plain": [
       "<Figure size 432x288 with 1 Axes>"
      ]
     },
     "metadata": {
      "needs_background": "light",
      "tags": []
     },
     "output_type": "display_data"
    }
   ],
   "source": [
    "data_11 = data_11.groupby( ['Name', 'Year'], as_index=False ).agg( { 'Price' : 'mean' } )\n",
    "data_11 = data_11[ data_11['Name'] == 'Maruti Wagon R VXI' ][ ['Year', 'Price'] ]\n",
    "data_11 = data_11.set_index('Year')\n",
    "data_11.plot( grid=True ).set_title(\"Tren Rata - Rata Harga Mobil 'Maruti Wagon R VXI'\")"
   ]
  },
  {
   "cell_type": "markdown",
   "metadata": {
    "colab_type": "text",
    "id": "-QOO0h8nPdvx"
   },
   "source": [
    "### Berapa banyak kendaraan Automatic dan Manual pada setiap merek mobil"
   ]
  },
  {
   "cell_type": "code",
   "execution_count": null,
   "metadata": {
    "colab": {
     "base_uri": "https://localhost:8080/",
     "height": 289
    },
    "colab_type": "code",
    "id": "4QeSMplpBm81",
    "outputId": "0798c341-1f18-41f6-b8f8-60069480868e"
   },
   "outputs": [
    {
     "data": {
      "text/html": [
       "<div>\n",
       "<style scoped>\n",
       "    .dataframe tbody tr th:only-of-type {\n",
       "        vertical-align: middle;\n",
       "    }\n",
       "\n",
       "    .dataframe tbody tr th {\n",
       "        vertical-align: top;\n",
       "    }\n",
       "\n",
       "    .dataframe thead th {\n",
       "        text-align: right;\n",
       "    }\n",
       "</style>\n",
       "<table border=\"1\" class=\"dataframe\">\n",
       "  <thead>\n",
       "    <tr style=\"text-align: right;\">\n",
       "      <th></th>\n",
       "      <th>Name</th>\n",
       "      <th>Location</th>\n",
       "      <th>Year</th>\n",
       "      <th>Kilometers_Driven</th>\n",
       "      <th>Fuel_Type</th>\n",
       "      <th>Transmission</th>\n",
       "      <th>Owner_Type</th>\n",
       "      <th>Mileage</th>\n",
       "      <th>Engine</th>\n",
       "      <th>Power</th>\n",
       "      <th>Seats</th>\n",
       "      <th>Price</th>\n",
       "    </tr>\n",
       "  </thead>\n",
       "  <tbody>\n",
       "    <tr>\n",
       "      <th>0</th>\n",
       "      <td>Maruti</td>\n",
       "      <td>Mumbai</td>\n",
       "      <td>2010</td>\n",
       "      <td>72000</td>\n",
       "      <td>CNG</td>\n",
       "      <td>Manual</td>\n",
       "      <td>First</td>\n",
       "      <td>26.6 km/kg</td>\n",
       "      <td>998 CC</td>\n",
       "      <td>58.16 bhp</td>\n",
       "      <td>5.0</td>\n",
       "      <td>1.75</td>\n",
       "    </tr>\n",
       "    <tr>\n",
       "      <th>1</th>\n",
       "      <td>Hyundai</td>\n",
       "      <td>Pune</td>\n",
       "      <td>2015</td>\n",
       "      <td>41000</td>\n",
       "      <td>Diesel</td>\n",
       "      <td>Manual</td>\n",
       "      <td>First</td>\n",
       "      <td>19.67 kmpl</td>\n",
       "      <td>1582 CC</td>\n",
       "      <td>126.2 bhp</td>\n",
       "      <td>5.0</td>\n",
       "      <td>12.50</td>\n",
       "    </tr>\n",
       "    <tr>\n",
       "      <th>2</th>\n",
       "      <td>Honda</td>\n",
       "      <td>Chennai</td>\n",
       "      <td>2011</td>\n",
       "      <td>46000</td>\n",
       "      <td>Petrol</td>\n",
       "      <td>Manual</td>\n",
       "      <td>First</td>\n",
       "      <td>18.2 kmpl</td>\n",
       "      <td>1199 CC</td>\n",
       "      <td>88.7 bhp</td>\n",
       "      <td>5.0</td>\n",
       "      <td>4.50</td>\n",
       "    </tr>\n",
       "    <tr>\n",
       "      <th>3</th>\n",
       "      <td>Maruti</td>\n",
       "      <td>Chennai</td>\n",
       "      <td>2012</td>\n",
       "      <td>87000</td>\n",
       "      <td>Diesel</td>\n",
       "      <td>Manual</td>\n",
       "      <td>First</td>\n",
       "      <td>20.77 kmpl</td>\n",
       "      <td>1248 CC</td>\n",
       "      <td>88.76 bhp</td>\n",
       "      <td>7.0</td>\n",
       "      <td>6.00</td>\n",
       "    </tr>\n",
       "    <tr>\n",
       "      <th>4</th>\n",
       "      <td>Audi</td>\n",
       "      <td>Coimbatore</td>\n",
       "      <td>2013</td>\n",
       "      <td>40670</td>\n",
       "      <td>Diesel</td>\n",
       "      <td>Automatic</td>\n",
       "      <td>Second</td>\n",
       "      <td>15.2 kmpl</td>\n",
       "      <td>1968 CC</td>\n",
       "      <td>140.8 bhp</td>\n",
       "      <td>5.0</td>\n",
       "      <td>17.74</td>\n",
       "    </tr>\n",
       "  </tbody>\n",
       "</table>\n",
       "</div>"
      ],
      "text/plain": [
       "      Name    Location  Year  ...      Power Seats  Price\n",
       "0   Maruti      Mumbai  2010  ...  58.16 bhp   5.0   1.75\n",
       "1  Hyundai        Pune  2015  ...  126.2 bhp   5.0  12.50\n",
       "2    Honda     Chennai  2011  ...   88.7 bhp   5.0   4.50\n",
       "3   Maruti     Chennai  2012  ...  88.76 bhp   7.0   6.00\n",
       "4     Audi  Coimbatore  2013  ...  140.8 bhp   5.0  17.74\n",
       "\n",
       "[5 rows x 12 columns]"
      ]
     },
     "execution_count": 39,
     "metadata": {
      "tags": []
     },
     "output_type": "execute_result"
    }
   ],
   "source": [
    "data_12 = df.copy()\n",
    "data_12['Name'] = data_12['Name'].apply( lambda x: x.split( \" \" )[ 0 ] )\n",
    "data_12.head()"
   ]
  },
  {
   "cell_type": "code",
   "execution_count": null,
   "metadata": {
    "colab": {
     "base_uri": "https://localhost:8080/",
     "height": 1000
    },
    "colab_type": "code",
    "id": "3bAevpNGhbts",
    "outputId": "161c5e6a-4206-4983-87e3-bf339b2200eb"
   },
   "outputs": [
    {
     "data": {
      "text/html": [
       "<div>\n",
       "<style scoped>\n",
       "    .dataframe tbody tr th:only-of-type {\n",
       "        vertical-align: middle;\n",
       "    }\n",
       "\n",
       "    .dataframe tbody tr th {\n",
       "        vertical-align: top;\n",
       "    }\n",
       "\n",
       "    .dataframe thead th {\n",
       "        text-align: right;\n",
       "    }\n",
       "</style>\n",
       "<table border=\"1\" class=\"dataframe\">\n",
       "  <thead>\n",
       "    <tr style=\"text-align: right;\">\n",
       "      <th></th>\n",
       "      <th>Name</th>\n",
       "      <th>Manual</th>\n",
       "      <th>Automatic</th>\n",
       "    </tr>\n",
       "  </thead>\n",
       "  <tbody>\n",
       "    <tr>\n",
       "      <th>0</th>\n",
       "      <td>Ambassador</td>\n",
       "      <td>1</td>\n",
       "      <td>0</td>\n",
       "    </tr>\n",
       "    <tr>\n",
       "      <th>1</th>\n",
       "      <td>Audi</td>\n",
       "      <td>0</td>\n",
       "      <td>236</td>\n",
       "    </tr>\n",
       "    <tr>\n",
       "      <th>2</th>\n",
       "      <td>BMW</td>\n",
       "      <td>0</td>\n",
       "      <td>267</td>\n",
       "    </tr>\n",
       "    <tr>\n",
       "      <th>3</th>\n",
       "      <td>Bentley</td>\n",
       "      <td>0</td>\n",
       "      <td>1</td>\n",
       "    </tr>\n",
       "    <tr>\n",
       "      <th>4</th>\n",
       "      <td>Chevrolet</td>\n",
       "      <td>112</td>\n",
       "      <td>9</td>\n",
       "    </tr>\n",
       "    <tr>\n",
       "      <th>5</th>\n",
       "      <td>Datsun</td>\n",
       "      <td>13</td>\n",
       "      <td>0</td>\n",
       "    </tr>\n",
       "    <tr>\n",
       "      <th>6</th>\n",
       "      <td>Fiat</td>\n",
       "      <td>28</td>\n",
       "      <td>0</td>\n",
       "    </tr>\n",
       "    <tr>\n",
       "      <th>7</th>\n",
       "      <td>Force</td>\n",
       "      <td>3</td>\n",
       "      <td>0</td>\n",
       "    </tr>\n",
       "    <tr>\n",
       "      <th>8</th>\n",
       "      <td>Ford</td>\n",
       "      <td>261</td>\n",
       "      <td>39</td>\n",
       "    </tr>\n",
       "    <tr>\n",
       "      <th>9</th>\n",
       "      <td>Honda</td>\n",
       "      <td>478</td>\n",
       "      <td>130</td>\n",
       "    </tr>\n",
       "    <tr>\n",
       "      <th>10</th>\n",
       "      <td>Hyundai</td>\n",
       "      <td>959</td>\n",
       "      <td>148</td>\n",
       "    </tr>\n",
       "    <tr>\n",
       "      <th>11</th>\n",
       "      <td>ISUZU</td>\n",
       "      <td>2</td>\n",
       "      <td>0</td>\n",
       "    </tr>\n",
       "    <tr>\n",
       "      <th>12</th>\n",
       "      <td>Isuzu</td>\n",
       "      <td>0</td>\n",
       "      <td>1</td>\n",
       "    </tr>\n",
       "    <tr>\n",
       "      <th>13</th>\n",
       "      <td>Jaguar</td>\n",
       "      <td>0</td>\n",
       "      <td>40</td>\n",
       "    </tr>\n",
       "    <tr>\n",
       "      <th>14</th>\n",
       "      <td>Jeep</td>\n",
       "      <td>14</td>\n",
       "      <td>1</td>\n",
       "    </tr>\n",
       "    <tr>\n",
       "      <th>15</th>\n",
       "      <td>Lamborghini</td>\n",
       "      <td>0</td>\n",
       "      <td>1</td>\n",
       "    </tr>\n",
       "    <tr>\n",
       "      <th>16</th>\n",
       "      <td>Land</td>\n",
       "      <td>1</td>\n",
       "      <td>59</td>\n",
       "    </tr>\n",
       "    <tr>\n",
       "      <th>17</th>\n",
       "      <td>Mahindra</td>\n",
       "      <td>244</td>\n",
       "      <td>28</td>\n",
       "    </tr>\n",
       "    <tr>\n",
       "      <th>18</th>\n",
       "      <td>Maruti</td>\n",
       "      <td>1112</td>\n",
       "      <td>99</td>\n",
       "    </tr>\n",
       "    <tr>\n",
       "      <th>19</th>\n",
       "      <td>Mercedes-Benz</td>\n",
       "      <td>18</td>\n",
       "      <td>300</td>\n",
       "    </tr>\n",
       "    <tr>\n",
       "      <th>20</th>\n",
       "      <td>Mini</td>\n",
       "      <td>1</td>\n",
       "      <td>25</td>\n",
       "    </tr>\n",
       "    <tr>\n",
       "      <th>21</th>\n",
       "      <td>Mitsubishi</td>\n",
       "      <td>21</td>\n",
       "      <td>6</td>\n",
       "    </tr>\n",
       "    <tr>\n",
       "      <th>22</th>\n",
       "      <td>Nissan</td>\n",
       "      <td>79</td>\n",
       "      <td>12</td>\n",
       "    </tr>\n",
       "    <tr>\n",
       "      <th>23</th>\n",
       "      <td>Porsche</td>\n",
       "      <td>1</td>\n",
       "      <td>17</td>\n",
       "    </tr>\n",
       "    <tr>\n",
       "      <th>24</th>\n",
       "      <td>Renault</td>\n",
       "      <td>127</td>\n",
       "      <td>18</td>\n",
       "    </tr>\n",
       "    <tr>\n",
       "      <th>25</th>\n",
       "      <td>Skoda</td>\n",
       "      <td>80</td>\n",
       "      <td>93</td>\n",
       "    </tr>\n",
       "    <tr>\n",
       "      <th>26</th>\n",
       "      <td>Smart</td>\n",
       "      <td>0</td>\n",
       "      <td>1</td>\n",
       "    </tr>\n",
       "    <tr>\n",
       "      <th>27</th>\n",
       "      <td>Tata</td>\n",
       "      <td>175</td>\n",
       "      <td>11</td>\n",
       "    </tr>\n",
       "    <tr>\n",
       "      <th>28</th>\n",
       "      <td>Toyota</td>\n",
       "      <td>312</td>\n",
       "      <td>99</td>\n",
       "    </tr>\n",
       "    <tr>\n",
       "      <th>29</th>\n",
       "      <td>Volkswagen</td>\n",
       "      <td>256</td>\n",
       "      <td>59</td>\n",
       "    </tr>\n",
       "    <tr>\n",
       "      <th>30</th>\n",
       "      <td>Volvo</td>\n",
       "      <td>1</td>\n",
       "      <td>20</td>\n",
       "    </tr>\n",
       "  </tbody>\n",
       "</table>\n",
       "</div>"
      ],
      "text/plain": [
       "             Name  Manual  Automatic\n",
       "0      Ambassador       1          0\n",
       "1            Audi       0        236\n",
       "2             BMW       0        267\n",
       "3         Bentley       0          1\n",
       "4       Chevrolet     112          9\n",
       "5          Datsun      13          0\n",
       "6            Fiat      28          0\n",
       "7           Force       3          0\n",
       "8            Ford     261         39\n",
       "9           Honda     478        130\n",
       "10        Hyundai     959        148\n",
       "11          ISUZU       2          0\n",
       "12          Isuzu       0          1\n",
       "13         Jaguar       0         40\n",
       "14           Jeep      14          1\n",
       "15    Lamborghini       0          1\n",
       "16           Land       1         59\n",
       "17       Mahindra     244         28\n",
       "18         Maruti    1112         99\n",
       "19  Mercedes-Benz      18        300\n",
       "20           Mini       1         25\n",
       "21     Mitsubishi      21          6\n",
       "22         Nissan      79         12\n",
       "23        Porsche       1         17\n",
       "24        Renault     127         18\n",
       "25          Skoda      80         93\n",
       "26          Smart       0          1\n",
       "27           Tata     175         11\n",
       "28         Toyota     312         99\n",
       "29     Volkswagen     256         59\n",
       "30          Volvo       1         20"
      ]
     },
     "execution_count": 40,
     "metadata": {
      "tags": []
     },
     "output_type": "execute_result"
    }
   ],
   "source": [
    "data_12_func_1 = lambda data: data[ data == 'Manual' ].count()\n",
    "data_12_func_2 = lambda data: data[ data == 'Automatic' ].count()\n",
    "\n",
    "data_12 = data_12.groupby( ['Name'], as_index=False )\n",
    "          .agg( { 'Transmission' : [ data_12_func_1, data_12_func_2 ] } )\n",
    "data_12.columns = ['Name', 'Manual', 'Automatic']\n",
    "data_12"
   ]
  },
  {
   "cell_type": "markdown",
   "metadata": {
    "colab_type": "text",
    "id": "vMHXu4UATh5c"
   },
   "source": [
    "### Berapa jumlah model, model apa saja yang dijual, dan model apa yang terbanyak di jual setiap Merek"
   ]
  },
  {
   "cell_type": "code",
   "execution_count": null,
   "metadata": {
    "colab": {},
    "colab_type": "code",
    "id": "cAKofd1WQZ66"
   },
   "outputs": [],
   "source": [
    "data_13 = df.copy()\n",
    "data_13['Model'] = data_13['Name'].apply( lambda x: x.split( \" \", 1 )[ 1 ] )\n",
    "data_13['Name'] = data_13['Name'].apply( lambda x: x.split( \" \", 1 )[ 0 ] ).astype(str)"
   ]
  },
  {
   "cell_type": "code",
   "execution_count": null,
   "metadata": {
    "colab": {
     "base_uri": "https://localhost:8080/",
     "height": 1000
    },
    "colab_type": "code",
    "id": "Kq_vrZArR2BB",
    "outputId": "08c584fd-b822-4ecb-fe42-38ee7e07970c"
   },
   "outputs": [
    {
     "data": {
      "text/html": [
       "<div>\n",
       "<style scoped>\n",
       "    .dataframe tbody tr th:only-of-type {\n",
       "        vertical-align: middle;\n",
       "    }\n",
       "\n",
       "    .dataframe tbody tr th {\n",
       "        vertical-align: top;\n",
       "    }\n",
       "\n",
       "    .dataframe thead th {\n",
       "        text-align: right;\n",
       "    }\n",
       "</style>\n",
       "<table border=\"1\" class=\"dataframe\">\n",
       "  <thead>\n",
       "    <tr style=\"text-align: right;\">\n",
       "      <th></th>\n",
       "      <th>Brand</th>\n",
       "      <th>Number_Of_Models</th>\n",
       "      <th>Models</th>\n",
       "      <th>Most_Sold_Model</th>\n",
       "    </tr>\n",
       "  </thead>\n",
       "  <tbody>\n",
       "    <tr>\n",
       "      <th>0</th>\n",
       "      <td>Ambassador</td>\n",
       "      <td>1</td>\n",
       "      <td>Classic Nova Diesel</td>\n",
       "      <td>Classic Nova Diesel</td>\n",
       "    </tr>\n",
       "    <tr>\n",
       "      <th>1</th>\n",
       "      <td>Audi</td>\n",
       "      <td>69</td>\n",
       "      <td>A4 New 2.0 TDI Multitronic, A6 2011-2015 35 TF...</td>\n",
       "      <td>A3 35 TDI Attraction</td>\n",
       "    </tr>\n",
       "    <tr>\n",
       "      <th>2</th>\n",
       "      <td>BMW</td>\n",
       "      <td>87</td>\n",
       "      <td>3 Series 320d, 5 Series 2003-2012 525d, 3 Seri...</td>\n",
       "      <td>1 Series 118d Base</td>\n",
       "    </tr>\n",
       "    <tr>\n",
       "      <th>3</th>\n",
       "      <td>Bentley</td>\n",
       "      <td>1</td>\n",
       "      <td>Continental Flying Spur</td>\n",
       "      <td>Continental Flying Spur</td>\n",
       "    </tr>\n",
       "    <tr>\n",
       "      <th>4</th>\n",
       "      <td>Chevrolet</td>\n",
       "      <td>43</td>\n",
       "      <td>Beat LT Option, Beat Diesel LT, Optra Magnum 1...</td>\n",
       "      <td>Aveo 1.4</td>\n",
       "    </tr>\n",
       "    <tr>\n",
       "      <th>5</th>\n",
       "      <td>Datsun</td>\n",
       "      <td>9</td>\n",
       "      <td>GO Plus T Petrol, GO NXT, redi-GO T Option, GO...</td>\n",
       "      <td>GO NXT</td>\n",
       "    </tr>\n",
       "    <tr>\n",
       "      <th>6</th>\n",
       "      <td>Fiat</td>\n",
       "      <td>20</td>\n",
       "      <td>Grande Punto 1.3 Emotion Pack (Diesel), Linea ...</td>\n",
       "      <td>Avventura MULTIJET Emotion</td>\n",
       "    </tr>\n",
       "    <tr>\n",
       "      <th>7</th>\n",
       "      <td>Force</td>\n",
       "      <td>2</td>\n",
       "      <td>One LX 4x4, One LX ABS 7 Seating</td>\n",
       "      <td>One LX 4x4</td>\n",
       "    </tr>\n",
       "    <tr>\n",
       "      <th>8</th>\n",
       "      <td>Ford</td>\n",
       "      <td>114</td>\n",
       "      <td>Figo Diesel Titanium, Fiesta 1.4 SXi TDCi, Fig...</td>\n",
       "      <td>Aspire Ambiente Diesel</td>\n",
       "    </tr>\n",
       "    <tr>\n",
       "      <th>9</th>\n",
       "      <td>Honda</td>\n",
       "      <td>154</td>\n",
       "      <td>Jazz V, City 1.5 V AT Sunroof, Amaze S i-Dtech...</td>\n",
       "      <td>Accord 2.4 A/T</td>\n",
       "    </tr>\n",
       "    <tr>\n",
       "      <th>10</th>\n",
       "      <td>Hyundai</td>\n",
       "      <td>272</td>\n",
       "      <td>Creta 1.6 CRDi SX Option, EON LPG Era Plus Opt...</td>\n",
       "      <td>Accent CRDi</td>\n",
       "    </tr>\n",
       "    <tr>\n",
       "      <th>11</th>\n",
       "      <td>ISUZU</td>\n",
       "      <td>1</td>\n",
       "      <td>D-MAX V-Cross 4X4</td>\n",
       "      <td>D-MAX V-Cross 4X4</td>\n",
       "    </tr>\n",
       "    <tr>\n",
       "      <th>12</th>\n",
       "      <td>Isuzu</td>\n",
       "      <td>1</td>\n",
       "      <td>MUX 4WD</td>\n",
       "      <td>MUX 4WD</td>\n",
       "    </tr>\n",
       "    <tr>\n",
       "      <th>13</th>\n",
       "      <td>Jaguar</td>\n",
       "      <td>14</td>\n",
       "      <td>XF 3.0 Litre S Premium Luxury, XF 2.0 Diesel P...</td>\n",
       "      <td>F Type 5.0 V8 S</td>\n",
       "    </tr>\n",
       "    <tr>\n",
       "      <th>14</th>\n",
       "      <td>Jeep</td>\n",
       "      <td>7</td>\n",
       "      <td>Compass 2.0 Limited, Compass 2.0 Limited 4X4, ...</td>\n",
       "      <td>Compass 1.4 Limited Option</td>\n",
       "    </tr>\n",
       "    <tr>\n",
       "      <th>15</th>\n",
       "      <td>Lamborghini</td>\n",
       "      <td>1</td>\n",
       "      <td>Gallardo Coupe</td>\n",
       "      <td>Gallardo Coupe</td>\n",
       "    </tr>\n",
       "    <tr>\n",
       "      <th>16</th>\n",
       "      <td>Land</td>\n",
       "      <td>31</td>\n",
       "      <td>Rover Range Rover 2.2L Pure, Rover Freelander ...</td>\n",
       "      <td>Rover Discovery 3 TDV6 Diesel Automatic</td>\n",
       "    </tr>\n",
       "    <tr>\n",
       "      <th>17</th>\n",
       "      <td>Mahindra</td>\n",
       "      <td>113</td>\n",
       "      <td>Ssangyong Rexton RX7, KUV 100 mFALCON G80 K6 5...</td>\n",
       "      <td>Bolero DI BSII</td>\n",
       "    </tr>\n",
       "    <tr>\n",
       "      <th>18</th>\n",
       "      <td>Maruti</td>\n",
       "      <td>295</td>\n",
       "      <td>Wagon R LXI CNG, Ertiga VDI, Ciaz Zeta, Swift ...</td>\n",
       "      <td>1000 AC</td>\n",
       "    </tr>\n",
       "    <tr>\n",
       "      <th>19</th>\n",
       "      <td>Mercedes-Benz</td>\n",
       "      <td>110</td>\n",
       "      <td>New C-Class C 220 CDI BE Avantgare, M-Class ML...</td>\n",
       "      <td>A Class A180 CDI</td>\n",
       "    </tr>\n",
       "    <tr>\n",
       "      <th>20</th>\n",
       "      <td>Mini</td>\n",
       "      <td>11</td>\n",
       "      <td>Countryman Cooper D, Cooper Convertible S, Clu...</td>\n",
       "      <td>Clubman Cooper S</td>\n",
       "    </tr>\n",
       "    <tr>\n",
       "      <th>21</th>\n",
       "      <td>Mitsubishi</td>\n",
       "      <td>16</td>\n",
       "      <td>Pajero Sport 4X4, Pajero Sport 4X2 AT DualTone...</td>\n",
       "      <td>Cedia Sports</td>\n",
       "    </tr>\n",
       "    <tr>\n",
       "      <th>22</th>\n",
       "      <td>Nissan</td>\n",
       "      <td>43</td>\n",
       "      <td>Micra Diesel XV, X-Trail SLX AT, Terrano XV D ...</td>\n",
       "      <td>Evalia 2013 XL</td>\n",
       "    </tr>\n",
       "    <tr>\n",
       "      <th>23</th>\n",
       "      <td>Porsche</td>\n",
       "      <td>13</td>\n",
       "      <td>Cayenne 2009-2014 Turbo, Cayman 2009-2012 S, B...</td>\n",
       "      <td>Boxster S tiptronic</td>\n",
       "    </tr>\n",
       "    <tr>\n",
       "      <th>24</th>\n",
       "      <td>Renault</td>\n",
       "      <td>41</td>\n",
       "      <td>Duster 85PS Diesel RxL Plus, Duster 110PS Dies...</td>\n",
       "      <td>Captur 1.5 Diesel Platine Mono</td>\n",
       "    </tr>\n",
       "    <tr>\n",
       "      <th>25</th>\n",
       "      <td>Skoda</td>\n",
       "      <td>90</td>\n",
       "      <td>Rapid 1.5 TDI Elegance, Rapid 1.5 TDI AT Elega...</td>\n",
       "      <td>Fabia 1.2 MPI Ambiente Petrol</td>\n",
       "    </tr>\n",
       "    <tr>\n",
       "      <th>26</th>\n",
       "      <td>Smart</td>\n",
       "      <td>1</td>\n",
       "      <td>Fortwo CDI AT</td>\n",
       "      <td>Fortwo CDI AT</td>\n",
       "    </tr>\n",
       "    <tr>\n",
       "      <th>27</th>\n",
       "      <td>Tata</td>\n",
       "      <td>109</td>\n",
       "      <td>Indica Vista Quadrajet LS, Nano LX SE, Indica ...</td>\n",
       "      <td>Bolt Quadrajet XE</td>\n",
       "    </tr>\n",
       "    <tr>\n",
       "      <th>28</th>\n",
       "      <td>Toyota</td>\n",
       "      <td>117</td>\n",
       "      <td>Innova Crysta 2.8 GX AT 8S, Innova 2.5 V Diese...</td>\n",
       "      <td>Camry 2.5 G</td>\n",
       "    </tr>\n",
       "    <tr>\n",
       "      <th>29</th>\n",
       "      <td>Volkswagen</td>\n",
       "      <td>74</td>\n",
       "      <td>Vento Diesel Comfortline, Vento Petrol Highlin...</td>\n",
       "      <td>Ameo 1.2 MPI Anniversary Edition</td>\n",
       "    </tr>\n",
       "    <tr>\n",
       "      <th>30</th>\n",
       "      <td>Volvo</td>\n",
       "      <td>16</td>\n",
       "      <td>V40 Cross Country D3, S80 2006-2013 D5, V40 D3...</td>\n",
       "      <td>S60 D3</td>\n",
       "    </tr>\n",
       "  </tbody>\n",
       "</table>\n",
       "</div>"
      ],
      "text/plain": [
       "            Brand  ...                          Most_Sold_Model\n",
       "0      Ambassador  ...                      Classic Nova Diesel\n",
       "1            Audi  ...                     A3 35 TDI Attraction\n",
       "2             BMW  ...                       1 Series 118d Base\n",
       "3         Bentley  ...                  Continental Flying Spur\n",
       "4       Chevrolet  ...                                 Aveo 1.4\n",
       "5          Datsun  ...                                   GO NXT\n",
       "6            Fiat  ...               Avventura MULTIJET Emotion\n",
       "7           Force  ...                               One LX 4x4\n",
       "8            Ford  ...                   Aspire Ambiente Diesel\n",
       "9           Honda  ...                           Accord 2.4 A/T\n",
       "10        Hyundai  ...                              Accent CRDi\n",
       "11          ISUZU  ...                        D-MAX V-Cross 4X4\n",
       "12          Isuzu  ...                                  MUX 4WD\n",
       "13         Jaguar  ...                          F Type 5.0 V8 S\n",
       "14           Jeep  ...               Compass 1.4 Limited Option\n",
       "15    Lamborghini  ...                           Gallardo Coupe\n",
       "16           Land  ...  Rover Discovery 3 TDV6 Diesel Automatic\n",
       "17       Mahindra  ...                           Bolero DI BSII\n",
       "18         Maruti  ...                                  1000 AC\n",
       "19  Mercedes-Benz  ...                         A Class A180 CDI\n",
       "20           Mini  ...                         Clubman Cooper S\n",
       "21     Mitsubishi  ...                             Cedia Sports\n",
       "22         Nissan  ...                           Evalia 2013 XL\n",
       "23        Porsche  ...                      Boxster S tiptronic\n",
       "24        Renault  ...           Captur 1.5 Diesel Platine Mono\n",
       "25          Skoda  ...            Fabia 1.2 MPI Ambiente Petrol\n",
       "26          Smart  ...                            Fortwo CDI AT\n",
       "27           Tata  ...                        Bolt Quadrajet XE\n",
       "28         Toyota  ...                              Camry 2.5 G\n",
       "29     Volkswagen  ...         Ameo 1.2 MPI Anniversary Edition\n",
       "30          Volvo  ...                                   S60 D3\n",
       "\n",
       "[31 rows x 4 columns]"
      ]
     },
     "execution_count": 70,
     "metadata": {
      "tags": []
     },
     "output_type": "execute_result"
    }
   ],
   "source": [
    "data_13 = data_13.groupby( ['Name'], as_index=False ).agg( { \n",
    "    'Model' : [ \n",
    "      lambda data: data.unique().shape[0], \n",
    "      lambda data: \", \".join( data.unique() ),\n",
    "      lambda data: \", \".join( stats.mode( data.unique() )[0] )\n",
    "    ]\n",
    "} )\n",
    "data_13.columns = [ \n",
    "    'Brand', \n",
    "    'Number_Of_Models', \n",
    "    'Models', \n",
    "    'Most_Sold_Model'\n",
    "]\n",
    "data_13"
   ]
  },
  {
   "cell_type": "markdown",
   "metadata": {
    "colab_type": "text",
    "id": "AwO9eeUIyuof"
   },
   "source": [
    "### Tahun Mobil paling tua dan paling baru yang dijual setiap mereknya"
   ]
  },
  {
   "cell_type": "code",
   "execution_count": null,
   "metadata": {
    "colab": {},
    "colab_type": "code",
    "id": "lDAM0jmtTExX"
   },
   "outputs": [],
   "source": [
    "data_14 = df.copy()\n",
    "data_14['Name'] = data_14['Name'].apply( lambda x: x.split( \" \", 1 )[ 0 ] ).astype(str)"
   ]
  },
  {
   "cell_type": "code",
   "execution_count": null,
   "metadata": {
    "colab": {
     "base_uri": "https://localhost:8080/",
     "height": 1000
    },
    "colab_type": "code",
    "id": "l5kTlZvaabVs",
    "outputId": "d78bc341-f065-4818-d961-dd8b5f7d464b"
   },
   "outputs": [
    {
     "data": {
      "text/html": [
       "<div>\n",
       "<style scoped>\n",
       "    .dataframe tbody tr th:only-of-type {\n",
       "        vertical-align: middle;\n",
       "    }\n",
       "\n",
       "    .dataframe tbody tr th {\n",
       "        vertical-align: top;\n",
       "    }\n",
       "\n",
       "    .dataframe thead th {\n",
       "        text-align: right;\n",
       "    }\n",
       "</style>\n",
       "<table border=\"1\" class=\"dataframe\">\n",
       "  <thead>\n",
       "    <tr style=\"text-align: right;\">\n",
       "      <th></th>\n",
       "      <th>Brand</th>\n",
       "      <th>Oldest_Car_Year</th>\n",
       "      <th>Newest_Car_Year</th>\n",
       "    </tr>\n",
       "  </thead>\n",
       "  <tbody>\n",
       "    <tr>\n",
       "      <th>0</th>\n",
       "      <td>Ambassador</td>\n",
       "      <td>2003</td>\n",
       "      <td>2003</td>\n",
       "    </tr>\n",
       "    <tr>\n",
       "      <th>1</th>\n",
       "      <td>Audi</td>\n",
       "      <td>2008</td>\n",
       "      <td>2019</td>\n",
       "    </tr>\n",
       "    <tr>\n",
       "      <th>2</th>\n",
       "      <td>BMW</td>\n",
       "      <td>2006</td>\n",
       "      <td>2019</td>\n",
       "    </tr>\n",
       "    <tr>\n",
       "      <th>3</th>\n",
       "      <td>Bentley</td>\n",
       "      <td>2006</td>\n",
       "      <td>2006</td>\n",
       "    </tr>\n",
       "    <tr>\n",
       "      <th>4</th>\n",
       "      <td>Chevrolet</td>\n",
       "      <td>2004</td>\n",
       "      <td>2018</td>\n",
       "    </tr>\n",
       "    <tr>\n",
       "      <th>5</th>\n",
       "      <td>Datsun</td>\n",
       "      <td>2016</td>\n",
       "      <td>2018</td>\n",
       "    </tr>\n",
       "    <tr>\n",
       "      <th>6</th>\n",
       "      <td>Fiat</td>\n",
       "      <td>2001</td>\n",
       "      <td>2018</td>\n",
       "    </tr>\n",
       "    <tr>\n",
       "      <th>7</th>\n",
       "      <td>Force</td>\n",
       "      <td>2014</td>\n",
       "      <td>2014</td>\n",
       "    </tr>\n",
       "    <tr>\n",
       "      <th>8</th>\n",
       "      <td>Ford</td>\n",
       "      <td>2002</td>\n",
       "      <td>2019</td>\n",
       "    </tr>\n",
       "    <tr>\n",
       "      <th>9</th>\n",
       "      <td>Honda</td>\n",
       "      <td>1999</td>\n",
       "      <td>2019</td>\n",
       "    </tr>\n",
       "    <tr>\n",
       "      <th>10</th>\n",
       "      <td>Hyundai</td>\n",
       "      <td>2001</td>\n",
       "      <td>2019</td>\n",
       "    </tr>\n",
       "    <tr>\n",
       "      <th>11</th>\n",
       "      <td>ISUZU</td>\n",
       "      <td>2017</td>\n",
       "      <td>2018</td>\n",
       "    </tr>\n",
       "    <tr>\n",
       "      <th>12</th>\n",
       "      <td>Isuzu</td>\n",
       "      <td>2017</td>\n",
       "      <td>2017</td>\n",
       "    </tr>\n",
       "    <tr>\n",
       "      <th>13</th>\n",
       "      <td>Jaguar</td>\n",
       "      <td>2011</td>\n",
       "      <td>2018</td>\n",
       "    </tr>\n",
       "    <tr>\n",
       "      <th>14</th>\n",
       "      <td>Jeep</td>\n",
       "      <td>2017</td>\n",
       "      <td>2019</td>\n",
       "    </tr>\n",
       "    <tr>\n",
       "      <th>15</th>\n",
       "      <td>Lamborghini</td>\n",
       "      <td>2011</td>\n",
       "      <td>2011</td>\n",
       "    </tr>\n",
       "    <tr>\n",
       "      <th>16</th>\n",
       "      <td>Land</td>\n",
       "      <td>2003</td>\n",
       "      <td>2019</td>\n",
       "    </tr>\n",
       "    <tr>\n",
       "      <th>17</th>\n",
       "      <td>Mahindra</td>\n",
       "      <td>2000</td>\n",
       "      <td>2019</td>\n",
       "    </tr>\n",
       "    <tr>\n",
       "      <th>18</th>\n",
       "      <td>Maruti</td>\n",
       "      <td>1998</td>\n",
       "      <td>2019</td>\n",
       "    </tr>\n",
       "    <tr>\n",
       "      <th>19</th>\n",
       "      <td>Mercedes-Benz</td>\n",
       "      <td>1998</td>\n",
       "      <td>2019</td>\n",
       "    </tr>\n",
       "    <tr>\n",
       "      <th>20</th>\n",
       "      <td>Mini</td>\n",
       "      <td>2012</td>\n",
       "      <td>2019</td>\n",
       "    </tr>\n",
       "    <tr>\n",
       "      <th>21</th>\n",
       "      <td>Mitsubishi</td>\n",
       "      <td>2001</td>\n",
       "      <td>2019</td>\n",
       "    </tr>\n",
       "    <tr>\n",
       "      <th>22</th>\n",
       "      <td>Nissan</td>\n",
       "      <td>2008</td>\n",
       "      <td>2018</td>\n",
       "    </tr>\n",
       "    <tr>\n",
       "      <th>23</th>\n",
       "      <td>Porsche</td>\n",
       "      <td>2008</td>\n",
       "      <td>2019</td>\n",
       "    </tr>\n",
       "    <tr>\n",
       "      <th>24</th>\n",
       "      <td>Renault</td>\n",
       "      <td>2011</td>\n",
       "      <td>2019</td>\n",
       "    </tr>\n",
       "    <tr>\n",
       "      <th>25</th>\n",
       "      <td>Skoda</td>\n",
       "      <td>2002</td>\n",
       "      <td>2019</td>\n",
       "    </tr>\n",
       "    <tr>\n",
       "      <th>26</th>\n",
       "      <td>Smart</td>\n",
       "      <td>2008</td>\n",
       "      <td>2008</td>\n",
       "    </tr>\n",
       "    <tr>\n",
       "      <th>27</th>\n",
       "      <td>Tata</td>\n",
       "      <td>2000</td>\n",
       "      <td>2019</td>\n",
       "    </tr>\n",
       "    <tr>\n",
       "      <th>28</th>\n",
       "      <td>Toyota</td>\n",
       "      <td>2001</td>\n",
       "      <td>2019</td>\n",
       "    </tr>\n",
       "    <tr>\n",
       "      <th>29</th>\n",
       "      <td>Volkswagen</td>\n",
       "      <td>2007</td>\n",
       "      <td>2019</td>\n",
       "    </tr>\n",
       "    <tr>\n",
       "      <th>30</th>\n",
       "      <td>Volvo</td>\n",
       "      <td>2008</td>\n",
       "      <td>2016</td>\n",
       "    </tr>\n",
       "  </tbody>\n",
       "</table>\n",
       "</div>"
      ],
      "text/plain": [
       "            Brand  Oldest_Car_Year  Newest_Car_Year\n",
       "0      Ambassador             2003             2003\n",
       "1            Audi             2008             2019\n",
       "2             BMW             2006             2019\n",
       "3         Bentley             2006             2006\n",
       "4       Chevrolet             2004             2018\n",
       "5          Datsun             2016             2018\n",
       "6            Fiat             2001             2018\n",
       "7           Force             2014             2014\n",
       "8            Ford             2002             2019\n",
       "9           Honda             1999             2019\n",
       "10        Hyundai             2001             2019\n",
       "11          ISUZU             2017             2018\n",
       "12          Isuzu             2017             2017\n",
       "13         Jaguar             2011             2018\n",
       "14           Jeep             2017             2019\n",
       "15    Lamborghini             2011             2011\n",
       "16           Land             2003             2019\n",
       "17       Mahindra             2000             2019\n",
       "18         Maruti             1998             2019\n",
       "19  Mercedes-Benz             1998             2019\n",
       "20           Mini             2012             2019\n",
       "21     Mitsubishi             2001             2019\n",
       "22         Nissan             2008             2018\n",
       "23        Porsche             2008             2019\n",
       "24        Renault             2011             2019\n",
       "25          Skoda             2002             2019\n",
       "26          Smart             2008             2008\n",
       "27           Tata             2000             2019\n",
       "28         Toyota             2001             2019\n",
       "29     Volkswagen             2007             2019\n",
       "30          Volvo             2008             2016"
      ]
     },
     "execution_count": 72,
     "metadata": {
      "tags": []
     },
     "output_type": "execute_result"
    }
   ],
   "source": [
    "data_14 = data_14.groupby( ['Name'], as_index=False ).agg( { \n",
    "    'Year' : [\n",
    "        'min',\n",
    "        'max'\n",
    "    ]\n",
    "} )\n",
    "data_14.columns = [ \n",
    "    'Brand', \n",
    "    'Oldest_Car_Year', \n",
    "    'Newest_Car_Year',\n",
    "]\n",
    "data_14"
   ]
  },
  {
   "cell_type": "markdown",
   "metadata": {
    "colab_type": "text",
    "id": "HOTLkTEqy2lo"
   },
   "source": [
    "### Jenis Bahan Bakar dan Transmisi yang dijual Setiap Merek"
   ]
  },
  {
   "cell_type": "code",
   "execution_count": null,
   "metadata": {
    "colab": {},
    "colab_type": "code",
    "id": "_CO_8KpOxhaq"
   },
   "outputs": [],
   "source": [
    "data_15 = df.copy()\n",
    "data_15['Name'] = data_15['Name'].apply( lambda x: x.split( \" \", 1 )[ 0 ] ).astype(str)"
   ]
  },
  {
   "cell_type": "code",
   "execution_count": null,
   "metadata": {
    "colab": {
     "base_uri": "https://localhost:8080/",
     "height": 1000
    },
    "colab_type": "code",
    "id": "lK-SZ-RJxqmZ",
    "outputId": "e492e181-ecab-4538-eb6b-8fd1b54f7ba6"
   },
   "outputs": [
    {
     "data": {
      "text/html": [
       "<div>\n",
       "<style scoped>\n",
       "    .dataframe tbody tr th:only-of-type {\n",
       "        vertical-align: middle;\n",
       "    }\n",
       "\n",
       "    .dataframe tbody tr th {\n",
       "        vertical-align: top;\n",
       "    }\n",
       "\n",
       "    .dataframe thead th {\n",
       "        text-align: right;\n",
       "    }\n",
       "</style>\n",
       "<table border=\"1\" class=\"dataframe\">\n",
       "  <thead>\n",
       "    <tr style=\"text-align: right;\">\n",
       "      <th></th>\n",
       "      <th>Brand</th>\n",
       "      <th>Most_Sold_Fuel_Type</th>\n",
       "      <th>Most_Sold_Transmission</th>\n",
       "    </tr>\n",
       "  </thead>\n",
       "  <tbody>\n",
       "    <tr>\n",
       "      <th>0</th>\n",
       "      <td>Ambassador</td>\n",
       "      <td>Diesel</td>\n",
       "      <td>Manual</td>\n",
       "    </tr>\n",
       "    <tr>\n",
       "      <th>1</th>\n",
       "      <td>Audi</td>\n",
       "      <td>Diesel</td>\n",
       "      <td>Automatic</td>\n",
       "    </tr>\n",
       "    <tr>\n",
       "      <th>2</th>\n",
       "      <td>BMW</td>\n",
       "      <td>Diesel</td>\n",
       "      <td>Automatic</td>\n",
       "    </tr>\n",
       "    <tr>\n",
       "      <th>3</th>\n",
       "      <td>Bentley</td>\n",
       "      <td>Petrol</td>\n",
       "      <td>Automatic</td>\n",
       "    </tr>\n",
       "    <tr>\n",
       "      <th>4</th>\n",
       "      <td>Chevrolet</td>\n",
       "      <td>Diesel</td>\n",
       "      <td>Automatic</td>\n",
       "    </tr>\n",
       "    <tr>\n",
       "      <th>5</th>\n",
       "      <td>Datsun</td>\n",
       "      <td>Petrol</td>\n",
       "      <td>Manual</td>\n",
       "    </tr>\n",
       "    <tr>\n",
       "      <th>6</th>\n",
       "      <td>Fiat</td>\n",
       "      <td>Diesel</td>\n",
       "      <td>Manual</td>\n",
       "    </tr>\n",
       "    <tr>\n",
       "      <th>7</th>\n",
       "      <td>Force</td>\n",
       "      <td>Diesel</td>\n",
       "      <td>Manual</td>\n",
       "    </tr>\n",
       "    <tr>\n",
       "      <th>8</th>\n",
       "      <td>Ford</td>\n",
       "      <td>Diesel</td>\n",
       "      <td>Automatic</td>\n",
       "    </tr>\n",
       "    <tr>\n",
       "      <th>9</th>\n",
       "      <td>Honda</td>\n",
       "      <td>Diesel</td>\n",
       "      <td>Automatic</td>\n",
       "    </tr>\n",
       "    <tr>\n",
       "      <th>10</th>\n",
       "      <td>Hyundai</td>\n",
       "      <td>CNG</td>\n",
       "      <td>Automatic</td>\n",
       "    </tr>\n",
       "    <tr>\n",
       "      <th>11</th>\n",
       "      <td>ISUZU</td>\n",
       "      <td>Diesel</td>\n",
       "      <td>Manual</td>\n",
       "    </tr>\n",
       "    <tr>\n",
       "      <th>12</th>\n",
       "      <td>Isuzu</td>\n",
       "      <td>Diesel</td>\n",
       "      <td>Automatic</td>\n",
       "    </tr>\n",
       "    <tr>\n",
       "      <th>13</th>\n",
       "      <td>Jaguar</td>\n",
       "      <td>Diesel</td>\n",
       "      <td>Automatic</td>\n",
       "    </tr>\n",
       "    <tr>\n",
       "      <th>14</th>\n",
       "      <td>Jeep</td>\n",
       "      <td>Diesel</td>\n",
       "      <td>Automatic</td>\n",
       "    </tr>\n",
       "    <tr>\n",
       "      <th>15</th>\n",
       "      <td>Lamborghini</td>\n",
       "      <td>Petrol</td>\n",
       "      <td>Automatic</td>\n",
       "    </tr>\n",
       "    <tr>\n",
       "      <th>16</th>\n",
       "      <td>Land</td>\n",
       "      <td>Diesel</td>\n",
       "      <td>Automatic</td>\n",
       "    </tr>\n",
       "    <tr>\n",
       "      <th>17</th>\n",
       "      <td>Mahindra</td>\n",
       "      <td>Diesel</td>\n",
       "      <td>Automatic</td>\n",
       "    </tr>\n",
       "    <tr>\n",
       "      <th>18</th>\n",
       "      <td>Maruti</td>\n",
       "      <td>CNG</td>\n",
       "      <td>Automatic</td>\n",
       "    </tr>\n",
       "    <tr>\n",
       "      <th>19</th>\n",
       "      <td>Mercedes-Benz</td>\n",
       "      <td>Diesel</td>\n",
       "      <td>Automatic</td>\n",
       "    </tr>\n",
       "    <tr>\n",
       "      <th>20</th>\n",
       "      <td>Mini</td>\n",
       "      <td>Diesel</td>\n",
       "      <td>Automatic</td>\n",
       "    </tr>\n",
       "    <tr>\n",
       "      <th>21</th>\n",
       "      <td>Mitsubishi</td>\n",
       "      <td>Diesel</td>\n",
       "      <td>Automatic</td>\n",
       "    </tr>\n",
       "    <tr>\n",
       "      <th>22</th>\n",
       "      <td>Nissan</td>\n",
       "      <td>Diesel</td>\n",
       "      <td>Automatic</td>\n",
       "    </tr>\n",
       "    <tr>\n",
       "      <th>23</th>\n",
       "      <td>Porsche</td>\n",
       "      <td>Diesel</td>\n",
       "      <td>Automatic</td>\n",
       "    </tr>\n",
       "    <tr>\n",
       "      <th>24</th>\n",
       "      <td>Renault</td>\n",
       "      <td>Diesel</td>\n",
       "      <td>Automatic</td>\n",
       "    </tr>\n",
       "    <tr>\n",
       "      <th>25</th>\n",
       "      <td>Skoda</td>\n",
       "      <td>Diesel</td>\n",
       "      <td>Automatic</td>\n",
       "    </tr>\n",
       "    <tr>\n",
       "      <th>26</th>\n",
       "      <td>Smart</td>\n",
       "      <td>Diesel</td>\n",
       "      <td>Automatic</td>\n",
       "    </tr>\n",
       "    <tr>\n",
       "      <th>27</th>\n",
       "      <td>Tata</td>\n",
       "      <td>CNG</td>\n",
       "      <td>Automatic</td>\n",
       "    </tr>\n",
       "    <tr>\n",
       "      <th>28</th>\n",
       "      <td>Toyota</td>\n",
       "      <td>CNG</td>\n",
       "      <td>Automatic</td>\n",
       "    </tr>\n",
       "    <tr>\n",
       "      <th>29</th>\n",
       "      <td>Volkswagen</td>\n",
       "      <td>Diesel</td>\n",
       "      <td>Automatic</td>\n",
       "    </tr>\n",
       "    <tr>\n",
       "      <th>30</th>\n",
       "      <td>Volvo</td>\n",
       "      <td>Diesel</td>\n",
       "      <td>Automatic</td>\n",
       "    </tr>\n",
       "  </tbody>\n",
       "</table>\n",
       "</div>"
      ],
      "text/plain": [
       "            Brand Most_Sold_Fuel_Type Most_Sold_Transmission\n",
       "0      Ambassador              Diesel                 Manual\n",
       "1            Audi              Diesel              Automatic\n",
       "2             BMW              Diesel              Automatic\n",
       "3         Bentley              Petrol              Automatic\n",
       "4       Chevrolet              Diesel              Automatic\n",
       "5          Datsun              Petrol                 Manual\n",
       "6            Fiat              Diesel                 Manual\n",
       "7           Force              Diesel                 Manual\n",
       "8            Ford              Diesel              Automatic\n",
       "9           Honda              Diesel              Automatic\n",
       "10        Hyundai                 CNG              Automatic\n",
       "11          ISUZU              Diesel                 Manual\n",
       "12          Isuzu              Diesel              Automatic\n",
       "13         Jaguar              Diesel              Automatic\n",
       "14           Jeep              Diesel              Automatic\n",
       "15    Lamborghini              Petrol              Automatic\n",
       "16           Land              Diesel              Automatic\n",
       "17       Mahindra              Diesel              Automatic\n",
       "18         Maruti                 CNG              Automatic\n",
       "19  Mercedes-Benz              Diesel              Automatic\n",
       "20           Mini              Diesel              Automatic\n",
       "21     Mitsubishi              Diesel              Automatic\n",
       "22         Nissan              Diesel              Automatic\n",
       "23        Porsche              Diesel              Automatic\n",
       "24        Renault              Diesel              Automatic\n",
       "25          Skoda              Diesel              Automatic\n",
       "26          Smart              Diesel              Automatic\n",
       "27           Tata                 CNG              Automatic\n",
       "28         Toyota                 CNG              Automatic\n",
       "29     Volkswagen              Diesel              Automatic\n",
       "30          Volvo              Diesel              Automatic"
      ]
     },
     "execution_count": 74,
     "metadata": {
      "tags": []
     },
     "output_type": "execute_result"
    }
   ],
   "source": [
    "data_15 = data_15.groupby( ['Name'], as_index=False ).agg( { \n",
    "    'Fuel_Type' : lambda data: \", \".join( stats.mode( data.unique() )[0] ),\n",
    "    'Transmission' : lambda data: \", \".join( stats.mode( data.unique() )[0] ),\n",
    "} )\n",
    "data_15.columns = [ \n",
    "    'Brand', \n",
    "    'Most_Sold_Fuel_Type',\n",
    "    'Most_Sold_Transmission'\n",
    "]\n",
    "data_15"
   ]
  },
  {
   "cell_type": "markdown",
   "metadata": {
    "colab_type": "text",
    "id": "u_ce2xNcz-_6"
   },
   "source": [
    "### Milaege, Mesin, Tenaga, dan Jumlah Kursi yang terbanyak terjual setiap model"
   ]
  },
  {
   "cell_type": "code",
   "execution_count": null,
   "metadata": {
    "colab": {},
    "colab_type": "code",
    "id": "HApgeWvvxzLY"
   },
   "outputs": [],
   "source": [
    "data_16 = df.copy()\n",
    "data_16['Name'] = data_16['Name'].apply( lambda x: x.split( \" \", 1 )[ 0 ] ).astype(str)"
   ]
  },
  {
   "cell_type": "code",
   "execution_count": null,
   "metadata": {
    "colab": {},
    "colab_type": "code",
    "id": "WUxpqP0jzE7X"
   },
   "outputs": [],
   "source": [
    "data_16['Merek'] = data_16['Name'].apply( lambda x: x.split( \" \" )[ 0 ] )\n",
    "\n",
    "milage = data_16[ ~data_16['Mileage'].isnull() ]['Mileage'].str.split( ' ' )\n",
    "data_16.loc[ ~data_16['Mileage'].isnull(), 'Mileage_unit' ] = milage.apply( lambda x: x[1] )\n",
    "data_16.loc[ ~data_16['Mileage'].isnull(), 'Mileage' ] = milage.apply( lambda x: x[0] ).astype(float)\n",
    "\n",
    "#mileage jadiin satu nilai dengan fuel type yang berbeda\n",
    "ratio_liter_to_kg = {\n",
    "    'CNG'     : 1.4,\n",
    "    'Diesel'  : 0.832,\n",
    "    'Petrol'  : 77.0,\n",
    "    'LPG'     : 0.5102\n",
    "}\n",
    "\n",
    "for fuel, ratio in ratio_liter_to_kg.items():\n",
    "  condition = (data_16['Fuel_Type'] == fuel) & (data_16['Mileage_unit'] == Mileage_unit [ 0 ] ) & ~(data_16['Mileage_unit'].isnull() )\n",
    "  data_16.loc[ condition, ['Mileage'] ] = data_16.loc[ condition, ['Mileage'] ] * ratio\n",
    "  data_16.loc[ condition, ['Mileage_unit'] ] = Mileage_unit [ 1 ]\n",
    "\n",
    "del data_16['Mileage_unit']\n",
    "\n",
    "data_16.loc[ ~data_16['Engine'].isnull(), 'Engine']  = data_16.loc[ ~data_16['Engine'].isnull() ]['Engine'].str.split( ' ' ).apply( lambda x: x[0] ).astype(float)\n",
    "\n",
    "data_16.loc[ ~data_16['Power'].isnull(), 'Power' ] = data_16.loc[ ~data_16['Power'].isnull() ]['Power'].str.split( ' ' ).apply( lambda x: x[0] )\n",
    "data_16.loc[ data_16['Power'] == 'null', 'Power' ] = np.nan\n",
    "data_16['Power'] = data_16['Power'].astype( float )"
   ]
  },
  {
   "cell_type": "code",
   "execution_count": null,
   "metadata": {
    "colab": {
     "base_uri": "https://localhost:8080/",
     "height": 1000
    },
    "colab_type": "code",
    "id": "Gum1AoDEzeo4",
    "outputId": "eb13f413-7e23-4583-f8ef-5cb9c6d1371d"
   },
   "outputs": [
    {
     "name": "stdout",
     "output_type": "stream",
     "text": [
      "Mileage  : Mean -->  18.21380692537815\n",
      "Mileage  : Median -->  18.16\n",
      "Mileage  : Mode -->  17.0\n",
      "Engine  : Mean -->  1621.276449941501\n",
      "Engine  : Median -->  1493.0\n",
      "Engine  : Mode -->  1197.0\n",
      "Power  : Mean -->  113.25304969366827\n",
      "Power  : Median -->  97.7\n",
      "Power  : Mode -->  74.0\n",
      "Seats  : Mean -->  5.278735151413753\n",
      "Seats  : Median -->  5.0\n",
      "Seats  : Mode -->  5.0\n"
     ]
    },
    {
     "data": {
      "image/png": "[encoded data removed]",
      "text/plain": [
       "<Figure size 720x2160 with 4 Axes>"
      ]
     },
     "metadata": {
      "needs_background": "light",
      "tags": []
     },
     "output_type": "display_data"
    }
   ],
   "source": [
    "#nilai per kolom dihitung nilai mean, median dan mode\n",
    "fig, axes = plt.subplots(ncols=1, nrows=4, figsize=(10,30))\n",
    "cols = [ 'Mileage', 'Engine', 'Power', 'Seats' ]\n",
    "\n",
    "for col, ax in zip( cols, axes.flat ):\n",
    "\n",
    "  data = data_16[ col ]\n",
    "\n",
    "  sns.distplot( data, hist=True, rug=False, ax=ax )\n",
    "  ax.axvline( data.mean() , color='red', label='Mean' )\n",
    "  ax.axvline( data.median() , color='yellow', label='Median' )\n",
    "\n",
    "  for mode in data.mode():\n",
    "    ax.axvline( mode , color='green', label='Mode')\n",
    "\n",
    "  print( col, ' : Mean --> ', data.mean() )\n",
    "  print( col, ' : Median --> ', data.median() )\n",
    "  print( col, ' : Mode --> ', data.mode()[0] )\n",
    "  \n",
    "  ax.title.set_text( \"Distribusi \" + col )\n",
    "  fig.tight_layout()\n",
    "  ax.legend()\n",
    "plt.show()"
   ]
  },
  {
   "cell_type": "code",
   "execution_count": null,
   "metadata": {
    "colab": {},
    "colab_type": "code",
    "id": "qMQF2ijGzoYZ"
   },
   "outputs": [],
   "source": [
    "#ganti nilai null dari setiap kolom menjadi nilai yg paling baik \n",
    "data_16['Mileage'] = data_16['Mileage'].fillna( data_16['Mileage'].mean() )\n",
    "data_16['Engine'] = data_16['Engine'].fillna( data_16['Engine'].mode()[0] )\n",
    "data_16['Power'] = data_16['Power'].fillna( data_16['Power'].mode()[0] )\n",
    "data_16['Seats'] = data_16['Seats'].fillna( data_16['Seats'].median() )"
   ]
  },
  {
   "cell_type": "code",
   "execution_count": null,
   "metadata": {
    "colab": {
     "base_uri": "https://localhost:8080/",
     "height": 1000
    },
    "colab_type": "code",
    "id": "FRYecdAgz2od",
    "outputId": "056379b6-bf0f-4ce0-85e3-afc370eb4c5f"
   },
   "outputs": [
    {
     "data": {
      "text/html": [
       "<div>\n",
       "<style scoped>\n",
       "    .dataframe tbody tr th:only-of-type {\n",
       "        vertical-align: middle;\n",
       "    }\n",
       "\n",
       "    .dataframe tbody tr th {\n",
       "        vertical-align: top;\n",
       "    }\n",
       "\n",
       "    .dataframe thead th {\n",
       "        text-align: right;\n",
       "    }\n",
       "</style>\n",
       "<table border=\"1\" class=\"dataframe\">\n",
       "  <thead>\n",
       "    <tr style=\"text-align: right;\">\n",
       "      <th></th>\n",
       "      <th>Brand</th>\n",
       "      <th>Most_Sold_Mileage (kmpl)</th>\n",
       "      <th>Most_Sold_Engine (CC)</th>\n",
       "      <th>Most_Sold_Power (bhp)</th>\n",
       "      <th>Most_Sold_Seats</th>\n",
       "    </tr>\n",
       "  </thead>\n",
       "  <tbody>\n",
       "    <tr>\n",
       "      <th>0</th>\n",
       "      <td>Ambassador</td>\n",
       "      <td>12.8</td>\n",
       "      <td>1489.0</td>\n",
       "      <td>35.5</td>\n",
       "      <td>5.0</td>\n",
       "    </tr>\n",
       "    <tr>\n",
       "      <th>1</th>\n",
       "      <td>Audi</td>\n",
       "      <td>0.0</td>\n",
       "      <td>1395.0</td>\n",
       "      <td>74.0</td>\n",
       "      <td>0.0</td>\n",
       "    </tr>\n",
       "    <tr>\n",
       "      <th>2</th>\n",
       "      <td>BMW</td>\n",
       "      <td>7.94</td>\n",
       "      <td>1197.0</td>\n",
       "      <td>74.0</td>\n",
       "      <td>2.0</td>\n",
       "    </tr>\n",
       "    <tr>\n",
       "      <th>3</th>\n",
       "      <td>Bentley</td>\n",
       "      <td>8.6</td>\n",
       "      <td>5998.0</td>\n",
       "      <td>552.0</td>\n",
       "      <td>4.0</td>\n",
       "    </tr>\n",
       "    <tr>\n",
       "      <th>4</th>\n",
       "      <td>Chevrolet</td>\n",
       "      <td>11.5</td>\n",
       "      <td>936.0</td>\n",
       "      <td>56.3</td>\n",
       "      <td>4.0</td>\n",
       "    </tr>\n",
       "    <tr>\n",
       "      <th>5</th>\n",
       "      <td>Datsun</td>\n",
       "      <td>19.44</td>\n",
       "      <td>799.0</td>\n",
       "      <td>53.0</td>\n",
       "      <td>5.0</td>\n",
       "    </tr>\n",
       "    <tr>\n",
       "      <th>6</th>\n",
       "      <td>Fiat</td>\n",
       "      <td>0.0</td>\n",
       "      <td>1172.0</td>\n",
       "      <td>67.0</td>\n",
       "      <td>5.0</td>\n",
       "    </tr>\n",
       "    <tr>\n",
       "      <th>7</th>\n",
       "      <td>Force</td>\n",
       "      <td>17.0</td>\n",
       "      <td>2149.0</td>\n",
       "      <td>139.01</td>\n",
       "      <td>7.0</td>\n",
       "    </tr>\n",
       "    <tr>\n",
       "      <th>8</th>\n",
       "      <td>Ford</td>\n",
       "      <td>0.0</td>\n",
       "      <td>999.0</td>\n",
       "      <td>67.0</td>\n",
       "      <td>4.0</td>\n",
       "    </tr>\n",
       "    <tr>\n",
       "      <th>9</th>\n",
       "      <td>Honda</td>\n",
       "      <td>0.0</td>\n",
       "      <td>1197.0</td>\n",
       "      <td>74.0</td>\n",
       "      <td>5.0</td>\n",
       "    </tr>\n",
       "    <tr>\n",
       "      <th>10</th>\n",
       "      <td>Hyundai</td>\n",
       "      <td>0.0</td>\n",
       "      <td>814.0</td>\n",
       "      <td>55.0</td>\n",
       "      <td>5.0</td>\n",
       "    </tr>\n",
       "    <tr>\n",
       "      <th>11</th>\n",
       "      <td>ISUZU</td>\n",
       "      <td>12.4</td>\n",
       "      <td>2499.0</td>\n",
       "      <td>134.0</td>\n",
       "      <td>5.0</td>\n",
       "    </tr>\n",
       "    <tr>\n",
       "      <th>12</th>\n",
       "      <td>Isuzu</td>\n",
       "      <td>13.8</td>\n",
       "      <td>2999.0</td>\n",
       "      <td>174.57</td>\n",
       "      <td>7.0</td>\n",
       "    </tr>\n",
       "    <tr>\n",
       "      <th>13</th>\n",
       "      <td>Jaguar</td>\n",
       "      <td>9.43</td>\n",
       "      <td>1999.0</td>\n",
       "      <td>177.0</td>\n",
       "      <td>2.0</td>\n",
       "    </tr>\n",
       "    <tr>\n",
       "      <th>14</th>\n",
       "      <td>Jeep</td>\n",
       "      <td>16.0</td>\n",
       "      <td>1368.0</td>\n",
       "      <td>160.0</td>\n",
       "      <td>5.0</td>\n",
       "    </tr>\n",
       "    <tr>\n",
       "      <th>15</th>\n",
       "      <td>Lamborghini</td>\n",
       "      <td>6.4</td>\n",
       "      <td>5204.0</td>\n",
       "      <td>560.0</td>\n",
       "      <td>2.0</td>\n",
       "    </tr>\n",
       "    <tr>\n",
       "      <th>16</th>\n",
       "      <td>Land</td>\n",
       "      <td>0.0</td>\n",
       "      <td>1197.0</td>\n",
       "      <td>74.0</td>\n",
       "      <td>5.0</td>\n",
       "    </tr>\n",
       "    <tr>\n",
       "      <th>17</th>\n",
       "      <td>Mahindra</td>\n",
       "      <td>0.0</td>\n",
       "      <td>72.0</td>\n",
       "      <td>41.0</td>\n",
       "      <td>5.0</td>\n",
       "    </tr>\n",
       "    <tr>\n",
       "      <th>18</th>\n",
       "      <td>Maruti</td>\n",
       "      <td>0.0</td>\n",
       "      <td>793.0</td>\n",
       "      <td>34.2</td>\n",
       "      <td>4.0</td>\n",
       "    </tr>\n",
       "    <tr>\n",
       "      <th>19</th>\n",
       "      <td>Mercedes-Benz</td>\n",
       "      <td>0.0</td>\n",
       "      <td>1595.0</td>\n",
       "      <td>74.0</td>\n",
       "      <td>2.0</td>\n",
       "    </tr>\n",
       "    <tr>\n",
       "      <th>20</th>\n",
       "      <td>Mini</td>\n",
       "      <td>13.6</td>\n",
       "      <td>1496.0</td>\n",
       "      <td>112.0</td>\n",
       "      <td>4.0</td>\n",
       "    </tr>\n",
       "    <tr>\n",
       "      <th>21</th>\n",
       "      <td>Mitsubishi</td>\n",
       "      <td>9.5</td>\n",
       "      <td>1468.0</td>\n",
       "      <td>68.0</td>\n",
       "      <td>5.0</td>\n",
       "    </tr>\n",
       "    <tr>\n",
       "      <th>22</th>\n",
       "      <td>Nissan</td>\n",
       "      <td>9.1</td>\n",
       "      <td>1198.0</td>\n",
       "      <td>63.1</td>\n",
       "      <td>5.0</td>\n",
       "    </tr>\n",
       "    <tr>\n",
       "      <th>23</th>\n",
       "      <td>Porsche</td>\n",
       "      <td>7.5</td>\n",
       "      <td>2706.0</td>\n",
       "      <td>74.0</td>\n",
       "      <td>2.0</td>\n",
       "    </tr>\n",
       "    <tr>\n",
       "      <th>24</th>\n",
       "      <td>Renault</td>\n",
       "      <td>13.06</td>\n",
       "      <td>799.0</td>\n",
       "      <td>53.3</td>\n",
       "      <td>5.0</td>\n",
       "    </tr>\n",
       "    <tr>\n",
       "      <th>25</th>\n",
       "      <td>Skoda</td>\n",
       "      <td>0.0</td>\n",
       "      <td>1198.0</td>\n",
       "      <td>66.0</td>\n",
       "      <td>5.0</td>\n",
       "    </tr>\n",
       "    <tr>\n",
       "      <th>26</th>\n",
       "      <td>Smart</td>\n",
       "      <td>0.0</td>\n",
       "      <td>799.0</td>\n",
       "      <td>74.0</td>\n",
       "      <td>2.0</td>\n",
       "    </tr>\n",
       "    <tr>\n",
       "      <th>27</th>\n",
       "      <td>Tata</td>\n",
       "      <td>11.57</td>\n",
       "      <td>624.0</td>\n",
       "      <td>35.0</td>\n",
       "      <td>4.0</td>\n",
       "    </tr>\n",
       "    <tr>\n",
       "      <th>28</th>\n",
       "      <td>Toyota</td>\n",
       "      <td>0.0</td>\n",
       "      <td>1197.0</td>\n",
       "      <td>67.04</td>\n",
       "      <td>5.0</td>\n",
       "    </tr>\n",
       "    <tr>\n",
       "      <th>29</th>\n",
       "      <td>Volkswagen</td>\n",
       "      <td>0.0</td>\n",
       "      <td>999.0</td>\n",
       "      <td>73.75</td>\n",
       "      <td>4.0</td>\n",
       "    </tr>\n",
       "    <tr>\n",
       "      <th>30</th>\n",
       "      <td>Volvo</td>\n",
       "      <td>9.0</td>\n",
       "      <td>1969.0</td>\n",
       "      <td>150.0</td>\n",
       "      <td>5.0</td>\n",
       "    </tr>\n",
       "  </tbody>\n",
       "</table>\n",
       "</div>"
      ],
      "text/plain": [
       "            Brand  ... Most_Sold_Seats\n",
       "0      Ambassador  ...             5.0\n",
       "1            Audi  ...             0.0\n",
       "2             BMW  ...             2.0\n",
       "3         Bentley  ...             4.0\n",
       "4       Chevrolet  ...             4.0\n",
       "5          Datsun  ...             5.0\n",
       "6            Fiat  ...             5.0\n",
       "7           Force  ...             7.0\n",
       "8            Ford  ...             4.0\n",
       "9           Honda  ...             5.0\n",
       "10        Hyundai  ...             5.0\n",
       "11          ISUZU  ...             5.0\n",
       "12          Isuzu  ...             7.0\n",
       "13         Jaguar  ...             2.0\n",
       "14           Jeep  ...             5.0\n",
       "15    Lamborghini  ...             2.0\n",
       "16           Land  ...             5.0\n",
       "17       Mahindra  ...             5.0\n",
       "18         Maruti  ...             4.0\n",
       "19  Mercedes-Benz  ...             2.0\n",
       "20           Mini  ...             4.0\n",
       "21     Mitsubishi  ...             5.0\n",
       "22         Nissan  ...             5.0\n",
       "23        Porsche  ...             2.0\n",
       "24        Renault  ...             5.0\n",
       "25          Skoda  ...             5.0\n",
       "26          Smart  ...             2.0\n",
       "27           Tata  ...             4.0\n",
       "28         Toyota  ...             5.0\n",
       "29     Volkswagen  ...             4.0\n",
       "30          Volvo  ...             5.0\n",
       "\n",
       "[31 rows x 5 columns]"
      ]
     },
     "execution_count": 89,
     "metadata": {
      "tags": []
     },
     "output_type": "execute_result"
    }
   ],
   "source": [
    "data_16 = data_16.groupby( ['Name'], as_index=False ).agg( { \n",
    "    'Mileage' : lambda data: \", \".join( stats.mode( data.unique() )[0].astype(str) ),\n",
    "    'Engine' : lambda data: \", \".join( stats.mode( data.unique() )[0].astype(str) ),\n",
    "    'Power' : lambda data: \", \".join( stats.mode( data.unique() )[0].astype(str) ),\n",
    "    'Seats' : lambda data: \", \".join( stats.mode( data.unique() )[0].astype(str) ),\n",
    "} )\n",
    "data_16.columns = [ \n",
    "    'Brand',\n",
    "    'Most_Sold_Mileage (kmpl)',\n",
    "    'Most_Sold_Engine (CC)',\n",
    "    'Most_Sold_Power (bhp)',\n",
    "    'Most_Sold_Seats',\n",
    "]\n",
    "data_16"
   ]
  },
  {
   "cell_type": "markdown",
   "metadata": {
    "colab": {},
    "colab_type": "code",
    "id": "JZgW8HDd1XsD"
   },
   "source": [
    "# Kesimpulan"
   ]
  },
  {
   "cell_type": "markdown",
   "metadata": {},
   "source": [
    "- LPG merupakan tipe bahan bakar yang paling hemat. \n",
    "\n",
    "- Harga mobil bekas di India dipengaruhi oleh beberapa faktor seperti tahun edisi , kapasitas mesin, tenaga maksimum mesin dan jumlah kursi mobil. \n",
    "\n",
    "- Setiap tahunnya, mobil 'Maruti Wagon R VXI' akan mengalami tren naik atau bullish. \n",
    "\n",
    "- Pada setiap merek terdapat model mobil yang paling banyak terjual dan spesifikasi rinciannya seperti jenis bahan bakar, tipe transmisi, tingkat konsumsi bahan bakar, kapasitas mesin, tenaga maksimum dan jumlah kursi mobil yang paling diminati. Diharapkan dengan adanya hasil analisis ini dapat meningkatkan penjualan mobil pada setiap merek. "
   ]
  }
 ],
 "metadata": {
  "colab": {
   "collapsed_sections": [
    "bECnt4UgTTXU",
    "io1frRUmTemk",
    "dYq-y92rTgjE",
    "leh0bQ-TTjgI",
    "eZrVcl49Tr6W",
    "NP1Ml33sTOh2",
    "vIw18sQsg0M9",
    "EoNAGPY0jCLJ",
    "xaV0qDVFAGqZ",
    "ngMMWcBikdgx",
    "fYwYhbuvodRR",
    "CEOaffK_Ann0",
    "M5g5IJ4xF_Pr",
    "tS85rTmwIsPw",
    "5cyXYhTG_S2A",
    "V6MNyfMnHXxZ"
   ],
   "name": "Seleksi.ipynb",
   "provenance": []
  },
  "kernelspec": {
   "display_name": "Python 3",
   "language": "python",
   "name": "python3"
  },
  "language_info": {
   "codemirror_mode": {
    "name": "ipython",
    "version": 3
   },
   "file_extension": ".py",
   "mimetype": "text/x-python",
   "name": "python",
   "nbconvert_exporter": "python",
   "pygments_lexer": "ipython3",
   "version": "3.6.5"
  }
 },
 "nbformat": 4,
 "nbformat_minor": 1
}
